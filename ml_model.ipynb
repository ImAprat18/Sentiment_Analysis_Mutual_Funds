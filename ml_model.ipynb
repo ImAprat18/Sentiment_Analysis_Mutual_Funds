{
 "cells": [
  {
   "cell_type": "markdown",
   "metadata": {},
   "source": [
    "# Aggregating Data and Building the Model"
   ]
  },
  {
   "cell_type": "code",
   "execution_count": 1,
   "metadata": {},
   "outputs": [
    {
     "name": "stdout",
     "output_type": "stream",
     "text": [
      "WARNING:tensorflow:From c:\\Users\\aprat\\AppData\\Local\\Programs\\Python\\Python311\\Lib\\site-packages\\keras\\src\\losses.py:2976: The name tf.losses.sparse_softmax_cross_entropy is deprecated. Please use tf.compat.v1.losses.sparse_softmax_cross_entropy instead.\n",
      "\n"
     ]
    }
   ],
   "source": [
    "# import all necessary libraries\n",
    "import pandas as pd\n",
    "import numpy as np\n",
    "import matplotlib.pyplot as plt\n",
    "import tensorflow as tf\n",
    "import time\n",
    "import datetime\n",
    "from datetime import date, timedelta\n",
    "import ast\n",
    "from sklearn.model_selection import KFold\n",
    "from sklearn.metrics import r2_score, mean_squared_error"
   ]
  },
  {
   "cell_type": "markdown",
   "metadata": {},
   "source": [
    "## 1. Aggregating Data"
   ]
  },
  {
   "cell_type": "code",
   "execution_count": 2,
   "metadata": {},
   "outputs": [],
   "source": [
    "# Sentiment data\n",
    "sentiment_data = pd.read_csv(\"final_sentiment_data.csv\")\n",
    "# MF NAVs\n",
    "mf_nav = pd.read_csv(\"AMFI_Reports.csv\")\n",
    "# Sensex data\n",
    "sensex_data = pd.read_csv(\"CSVForDate.csv\")"
   ]
  },
  {
   "cell_type": "code",
   "execution_count": 3,
   "metadata": {},
   "outputs": [
    {
     "data": {
      "text/html": [
       "<div>\n",
       "<style scoped>\n",
       "    .dataframe tbody tr th:only-of-type {\n",
       "        vertical-align: middle;\n",
       "    }\n",
       "\n",
       "    .dataframe tbody tr th {\n",
       "        vertical-align: top;\n",
       "    }\n",
       "\n",
       "    .dataframe thead th {\n",
       "        text-align: right;\n",
       "    }\n",
       "</style>\n",
       "<table border=\"1\" class=\"dataframe\">\n",
       "  <thead>\n",
       "    <tr style=\"text-align: right;\">\n",
       "      <th></th>\n",
       "      <th>Unnamed: 0.2</th>\n",
       "      <th>Unnamed: 0.1</th>\n",
       "      <th>Unnamed: 0</th>\n",
       "      <th>Date</th>\n",
       "      <th>Headlines</th>\n",
       "      <th>Processed_headlines</th>\n",
       "      <th>Positive Scores</th>\n",
       "      <th>Negative Scores</th>\n",
       "      <th>Neutral Scores</th>\n",
       "      <th>Compound Scores</th>\n",
       "    </tr>\n",
       "  </thead>\n",
       "  <tbody>\n",
       "    <tr>\n",
       "      <th>0</th>\n",
       "      <td>0</td>\n",
       "      <td>0</td>\n",
       "      <td>0</td>\n",
       "      <td>2022-06-08</td>\n",
       "      <td>['Why waste waste if you can get wasted?', 'Ji...</td>\n",
       "      <td>['waste waste get wasted', 'jiobp give monthly...</td>\n",
       "      <td>0.110808</td>\n",
       "      <td>0.073270</td>\n",
       "      <td>0.815934</td>\n",
       "      <td>0.044268</td>\n",
       "    </tr>\n",
       "    <tr>\n",
       "      <th>1</th>\n",
       "      <td>1</td>\n",
       "      <td>1</td>\n",
       "      <td>1</td>\n",
       "      <td>2022-06-09</td>\n",
       "      <td>['Centre may express concern over narcotics sm...</td>\n",
       "      <td>['centre may express concern narcotic smugglin...</td>\n",
       "      <td>0.148782</td>\n",
       "      <td>0.076613</td>\n",
       "      <td>0.774605</td>\n",
       "      <td>0.093870</td>\n",
       "    </tr>\n",
       "    <tr>\n",
       "      <th>2</th>\n",
       "      <td>2</td>\n",
       "      <td>2</td>\n",
       "      <td>2</td>\n",
       "      <td>2022-06-10</td>\n",
       "      <td>['Tea exporters buoyed by robust demand, expec...</td>\n",
       "      <td>['tea exporter buoyed robust demand expect mil...</td>\n",
       "      <td>0.130858</td>\n",
       "      <td>0.098172</td>\n",
       "      <td>0.770968</td>\n",
       "      <td>0.036928</td>\n",
       "    </tr>\n",
       "    <tr>\n",
       "      <th>3</th>\n",
       "      <td>3</td>\n",
       "      <td>3</td>\n",
       "      <td>3</td>\n",
       "      <td>2022-06-11</td>\n",
       "      <td>[\"Meta probing Sheryl Sandberg's use of compan...</td>\n",
       "      <td>['meta probing sheryl sandbergs use company re...</td>\n",
       "      <td>0.105064</td>\n",
       "      <td>0.102094</td>\n",
       "      <td>0.792850</td>\n",
       "      <td>-0.008721</td>\n",
       "    </tr>\n",
       "    <tr>\n",
       "      <th>4</th>\n",
       "      <td>4</td>\n",
       "      <td>4</td>\n",
       "      <td>4</td>\n",
       "      <td>2022-06-12</td>\n",
       "      <td>['India’s driving the R&amp;D wheel at Mercedes-Be...</td>\n",
       "      <td>['india driving rd wheel mercedesbenz', 'rule ...</td>\n",
       "      <td>0.100937</td>\n",
       "      <td>0.124604</td>\n",
       "      <td>0.774458</td>\n",
       "      <td>-0.042125</td>\n",
       "    </tr>\n",
       "    <tr>\n",
       "      <th>...</th>\n",
       "      <td>...</td>\n",
       "      <td>...</td>\n",
       "      <td>...</td>\n",
       "      <td>...</td>\n",
       "      <td>...</td>\n",
       "      <td>...</td>\n",
       "      <td>...</td>\n",
       "      <td>...</td>\n",
       "      <td>...</td>\n",
       "      <td>...</td>\n",
       "    </tr>\n",
       "    <tr>\n",
       "      <th>726</th>\n",
       "      <td>726</td>\n",
       "      <td>726</td>\n",
       "      <td>726</td>\n",
       "      <td>2024-06-03</td>\n",
       "      <td>['What drove growth in FY24', 'BJP worker alle...</td>\n",
       "      <td>['drove growth fy', 'bjp worker allegedly behe...</td>\n",
       "      <td>0.140942</td>\n",
       "      <td>0.073648</td>\n",
       "      <td>0.785410</td>\n",
       "      <td>0.094385</td>\n",
       "    </tr>\n",
       "    <tr>\n",
       "      <th>727</th>\n",
       "      <td>727</td>\n",
       "      <td>727</td>\n",
       "      <td>727</td>\n",
       "      <td>2024-06-04</td>\n",
       "      <td>['10 Best Mayonnaise of (2024) For quick, tast...</td>\n",
       "      <td>['best mayonnaise quick tasty meal', 'gen z he...</td>\n",
       "      <td>0.167072</td>\n",
       "      <td>0.078026</td>\n",
       "      <td>0.754926</td>\n",
       "      <td>0.156232</td>\n",
       "    </tr>\n",
       "    <tr>\n",
       "      <th>728</th>\n",
       "      <td>728</td>\n",
       "      <td>728</td>\n",
       "      <td>728</td>\n",
       "      <td>2024-06-05</td>\n",
       "      <td>['How will new moon in Gemini affect you? Peop...</td>\n",
       "      <td>['new moon gemini affect people zodiac sign ma...</td>\n",
       "      <td>0.162856</td>\n",
       "      <td>0.077198</td>\n",
       "      <td>0.759950</td>\n",
       "      <td>0.122053</td>\n",
       "    </tr>\n",
       "    <tr>\n",
       "      <th>729</th>\n",
       "      <td>729</td>\n",
       "      <td>729</td>\n",
       "      <td>729</td>\n",
       "      <td>2024-06-06</td>\n",
       "      <td>['Nisaba Godrej quits VIP Board over differenc...</td>\n",
       "      <td>['nisaba godrej quits vip board difference', '...</td>\n",
       "      <td>0.157706</td>\n",
       "      <td>0.077356</td>\n",
       "      <td>0.764926</td>\n",
       "      <td>0.100804</td>\n",
       "    </tr>\n",
       "    <tr>\n",
       "      <th>730</th>\n",
       "      <td>730</td>\n",
       "      <td>730</td>\n",
       "      <td>730</td>\n",
       "      <td>2024-06-07</td>\n",
       "      <td>['Maharashtra deputy chief minister Devendra F...</td>\n",
       "      <td>['maharashtra deputy chief minister devendra f...</td>\n",
       "      <td>0.155110</td>\n",
       "      <td>0.067050</td>\n",
       "      <td>0.777844</td>\n",
       "      <td>0.108048</td>\n",
       "    </tr>\n",
       "  </tbody>\n",
       "</table>\n",
       "<p>731 rows × 10 columns</p>\n",
       "</div>"
      ],
      "text/plain": [
       "     Unnamed: 0.2  Unnamed: 0.1  Unnamed: 0        Date  \\\n",
       "0               0             0           0  2022-06-08   \n",
       "1               1             1           1  2022-06-09   \n",
       "2               2             2           2  2022-06-10   \n",
       "3               3             3           3  2022-06-11   \n",
       "4               4             4           4  2022-06-12   \n",
       "..            ...           ...         ...         ...   \n",
       "726           726           726         726  2024-06-03   \n",
       "727           727           727         727  2024-06-04   \n",
       "728           728           728         728  2024-06-05   \n",
       "729           729           729         729  2024-06-06   \n",
       "730           730           730         730  2024-06-07   \n",
       "\n",
       "                                             Headlines  \\\n",
       "0    ['Why waste waste if you can get wasted?', 'Ji...   \n",
       "1    ['Centre may express concern over narcotics sm...   \n",
       "2    ['Tea exporters buoyed by robust demand, expec...   \n",
       "3    [\"Meta probing Sheryl Sandberg's use of compan...   \n",
       "4    ['India’s driving the R&D wheel at Mercedes-Be...   \n",
       "..                                                 ...   \n",
       "726  ['What drove growth in FY24', 'BJP worker alle...   \n",
       "727  ['10 Best Mayonnaise of (2024) For quick, tast...   \n",
       "728  ['How will new moon in Gemini affect you? Peop...   \n",
       "729  ['Nisaba Godrej quits VIP Board over differenc...   \n",
       "730  ['Maharashtra deputy chief minister Devendra F...   \n",
       "\n",
       "                                   Processed_headlines  Positive Scores  \\\n",
       "0    ['waste waste get wasted', 'jiobp give monthly...         0.110808   \n",
       "1    ['centre may express concern narcotic smugglin...         0.148782   \n",
       "2    ['tea exporter buoyed robust demand expect mil...         0.130858   \n",
       "3    ['meta probing sheryl sandbergs use company re...         0.105064   \n",
       "4    ['india driving rd wheel mercedesbenz', 'rule ...         0.100937   \n",
       "..                                                 ...              ...   \n",
       "726  ['drove growth fy', 'bjp worker allegedly behe...         0.140942   \n",
       "727  ['best mayonnaise quick tasty meal', 'gen z he...         0.167072   \n",
       "728  ['new moon gemini affect people zodiac sign ma...         0.162856   \n",
       "729  ['nisaba godrej quits vip board difference', '...         0.157706   \n",
       "730  ['maharashtra deputy chief minister devendra f...         0.155110   \n",
       "\n",
       "     Negative Scores  Neutral Scores  Compound Scores  \n",
       "0           0.073270        0.815934         0.044268  \n",
       "1           0.076613        0.774605         0.093870  \n",
       "2           0.098172        0.770968         0.036928  \n",
       "3           0.102094        0.792850        -0.008721  \n",
       "4           0.124604        0.774458        -0.042125  \n",
       "..               ...             ...              ...  \n",
       "726         0.073648        0.785410         0.094385  \n",
       "727         0.078026        0.754926         0.156232  \n",
       "728         0.077198        0.759950         0.122053  \n",
       "729         0.077356        0.764926         0.100804  \n",
       "730         0.067050        0.777844         0.108048  \n",
       "\n",
       "[731 rows x 10 columns]"
      ]
     },
     "execution_count": 3,
     "metadata": {},
     "output_type": "execute_result"
    }
   ],
   "source": [
    "sentiment_data"
   ]
  },
  {
   "cell_type": "code",
   "execution_count": 4,
   "metadata": {},
   "outputs": [
    {
     "data": {
      "text/html": [
       "<div>\n",
       "<style scoped>\n",
       "    .dataframe tbody tr th:only-of-type {\n",
       "        vertical-align: middle;\n",
       "    }\n",
       "\n",
       "    .dataframe tbody tr th {\n",
       "        vertical-align: top;\n",
       "    }\n",
       "\n",
       "    .dataframe thead th {\n",
       "        text-align: right;\n",
       "    }\n",
       "</style>\n",
       "<table border=\"1\" class=\"dataframe\">\n",
       "  <thead>\n",
       "    <tr style=\"text-align: right;\">\n",
       "      <th></th>\n",
       "      <th>Net Asset Value</th>\n",
       "      <th>Repurchase Price</th>\n",
       "      <th>Sale Price</th>\n",
       "      <th>NAV date</th>\n",
       "    </tr>\n",
       "  </thead>\n",
       "  <tbody>\n",
       "    <tr>\n",
       "      <th>0</th>\n",
       "      <td>48.5691</td>\n",
       "      <td>NaN</td>\n",
       "      <td>NaN</td>\n",
       "      <td>01-Jan-21</td>\n",
       "    </tr>\n",
       "    <tr>\n",
       "      <th>1</th>\n",
       "      <td>49.1367</td>\n",
       "      <td>NaN</td>\n",
       "      <td>NaN</td>\n",
       "      <td>04-Jan-21</td>\n",
       "    </tr>\n",
       "    <tr>\n",
       "      <th>2</th>\n",
       "      <td>49.3475</td>\n",
       "      <td>NaN</td>\n",
       "      <td>NaN</td>\n",
       "      <td>05-Jan-21</td>\n",
       "    </tr>\n",
       "    <tr>\n",
       "      <th>3</th>\n",
       "      <td>49.3500</td>\n",
       "      <td>NaN</td>\n",
       "      <td>NaN</td>\n",
       "      <td>06-Jan-21</td>\n",
       "    </tr>\n",
       "    <tr>\n",
       "      <th>4</th>\n",
       "      <td>49.3713</td>\n",
       "      <td>NaN</td>\n",
       "      <td>NaN</td>\n",
       "      <td>07-Jan-21</td>\n",
       "    </tr>\n",
       "    <tr>\n",
       "      <th>...</th>\n",
       "      <td>...</td>\n",
       "      <td>...</td>\n",
       "      <td>...</td>\n",
       "      <td>...</td>\n",
       "    </tr>\n",
       "    <tr>\n",
       "      <th>840</th>\n",
       "      <td>84.4289</td>\n",
       "      <td>NaN</td>\n",
       "      <td>NaN</td>\n",
       "      <td>03-Jun-24</td>\n",
       "    </tr>\n",
       "    <tr>\n",
       "      <th>841</th>\n",
       "      <td>80.6477</td>\n",
       "      <td>NaN</td>\n",
       "      <td>NaN</td>\n",
       "      <td>04-Jun-24</td>\n",
       "    </tr>\n",
       "    <tr>\n",
       "      <th>842</th>\n",
       "      <td>83.1941</td>\n",
       "      <td>NaN</td>\n",
       "      <td>NaN</td>\n",
       "      <td>05-Jun-24</td>\n",
       "    </tr>\n",
       "    <tr>\n",
       "      <th>843</th>\n",
       "      <td>83.9987</td>\n",
       "      <td>NaN</td>\n",
       "      <td>NaN</td>\n",
       "      <td>06-Jun-24</td>\n",
       "    </tr>\n",
       "    <tr>\n",
       "      <th>844</th>\n",
       "      <td>85.1902</td>\n",
       "      <td>NaN</td>\n",
       "      <td>NaN</td>\n",
       "      <td>07-Jun-24</td>\n",
       "    </tr>\n",
       "  </tbody>\n",
       "</table>\n",
       "<p>845 rows × 4 columns</p>\n",
       "</div>"
      ],
      "text/plain": [
       "     Net Asset Value  Repurchase Price  Sale Price   NAV date\n",
       "0            48.5691               NaN         NaN  01-Jan-21\n",
       "1            49.1367               NaN         NaN  04-Jan-21\n",
       "2            49.3475               NaN         NaN  05-Jan-21\n",
       "3            49.3500               NaN         NaN  06-Jan-21\n",
       "4            49.3713               NaN         NaN  07-Jan-21\n",
       "..               ...               ...         ...        ...\n",
       "840          84.4289               NaN         NaN  03-Jun-24\n",
       "841          80.6477               NaN         NaN  04-Jun-24\n",
       "842          83.1941               NaN         NaN  05-Jun-24\n",
       "843          83.9987               NaN         NaN  06-Jun-24\n",
       "844          85.1902               NaN         NaN  07-Jun-24\n",
       "\n",
       "[845 rows x 4 columns]"
      ]
     },
     "execution_count": 4,
     "metadata": {},
     "output_type": "execute_result"
    }
   ],
   "source": [
    "mf_nav"
   ]
  },
  {
   "cell_type": "code",
   "execution_count": 5,
   "metadata": {},
   "outputs": [
    {
     "data": {
      "text/html": [
       "<div>\n",
       "<style scoped>\n",
       "    .dataframe tbody tr th:only-of-type {\n",
       "        vertical-align: middle;\n",
       "    }\n",
       "\n",
       "    .dataframe tbody tr th {\n",
       "        vertical-align: top;\n",
       "    }\n",
       "\n",
       "    .dataframe thead th {\n",
       "        text-align: right;\n",
       "    }\n",
       "</style>\n",
       "<table border=\"1\" class=\"dataframe\">\n",
       "  <thead>\n",
       "    <tr style=\"text-align: right;\">\n",
       "      <th></th>\n",
       "      <th>Date</th>\n",
       "      <th>Open</th>\n",
       "      <th>High</th>\n",
       "      <th>Low</th>\n",
       "      <th>Close</th>\n",
       "    </tr>\n",
       "  </thead>\n",
       "  <tbody>\n",
       "    <tr>\n",
       "      <th>0</th>\n",
       "      <td>08-Jun-22</td>\n",
       "      <td>16743.46</td>\n",
       "      <td>16773.05</td>\n",
       "      <td>16552.32</td>\n",
       "      <td>16611.74</td>\n",
       "    </tr>\n",
       "    <tr>\n",
       "      <th>1</th>\n",
       "      <td>09-Jun-22</td>\n",
       "      <td>16517.01</td>\n",
       "      <td>16747.58</td>\n",
       "      <td>16493.99</td>\n",
       "      <td>16735.73</td>\n",
       "    </tr>\n",
       "    <tr>\n",
       "      <th>2</th>\n",
       "      <td>10-Jun-22</td>\n",
       "      <td>16577.80</td>\n",
       "      <td>16586.87</td>\n",
       "      <td>16443.15</td>\n",
       "      <td>16470.88</td>\n",
       "    </tr>\n",
       "    <tr>\n",
       "      <th>3</th>\n",
       "      <td>13-Jun-22</td>\n",
       "      <td>16154.96</td>\n",
       "      <td>16155.96</td>\n",
       "      <td>15967.70</td>\n",
       "      <td>16051.03</td>\n",
       "    </tr>\n",
       "    <tr>\n",
       "      <th>4</th>\n",
       "      <td>14-Jun-22</td>\n",
       "      <td>15956.47</td>\n",
       "      <td>16147.67</td>\n",
       "      <td>15934.82</td>\n",
       "      <td>16014.37</td>\n",
       "    </tr>\n",
       "    <tr>\n",
       "      <th>...</th>\n",
       "      <td>...</td>\n",
       "      <td>...</td>\n",
       "      <td>...</td>\n",
       "      <td>...</td>\n",
       "      <td>...</td>\n",
       "    </tr>\n",
       "    <tr>\n",
       "      <th>490</th>\n",
       "      <td>03-Jun-24</td>\n",
       "      <td>24629.93</td>\n",
       "      <td>24678.32</td>\n",
       "      <td>24357.25</td>\n",
       "      <td>24570.88</td>\n",
       "    </tr>\n",
       "    <tr>\n",
       "      <th>491</th>\n",
       "      <td>04-Jun-24</td>\n",
       "      <td>24538.98</td>\n",
       "      <td>24538.98</td>\n",
       "      <td>22334.49</td>\n",
       "      <td>23063.21</td>\n",
       "    </tr>\n",
       "    <tr>\n",
       "      <th>492</th>\n",
       "      <td>05-Jun-24</td>\n",
       "      <td>23374.23</td>\n",
       "      <td>23938.24</td>\n",
       "      <td>22918.86</td>\n",
       "      <td>23893.21</td>\n",
       "    </tr>\n",
       "    <tr>\n",
       "      <th>493</th>\n",
       "      <td>06-Jun-24</td>\n",
       "      <td>24124.04</td>\n",
       "      <td>24233.50</td>\n",
       "      <td>23964.33</td>\n",
       "      <td>24143.80</td>\n",
       "    </tr>\n",
       "    <tr>\n",
       "      <th>494</th>\n",
       "      <td>07-Jun-24</td>\n",
       "      <td>24153.28</td>\n",
       "      <td>24624.63</td>\n",
       "      <td>24101.15</td>\n",
       "      <td>24603.47</td>\n",
       "    </tr>\n",
       "  </tbody>\n",
       "</table>\n",
       "<p>495 rows × 5 columns</p>\n",
       "</div>"
      ],
      "text/plain": [
       "          Date      Open      High       Low     Close\n",
       "0    08-Jun-22  16743.46  16773.05  16552.32  16611.74\n",
       "1    09-Jun-22  16517.01  16747.58  16493.99  16735.73\n",
       "2    10-Jun-22  16577.80  16586.87  16443.15  16470.88\n",
       "3    13-Jun-22  16154.96  16155.96  15967.70  16051.03\n",
       "4    14-Jun-22  15956.47  16147.67  15934.82  16014.37\n",
       "..         ...       ...       ...       ...       ...\n",
       "490  03-Jun-24  24629.93  24678.32  24357.25  24570.88\n",
       "491  04-Jun-24  24538.98  24538.98  22334.49  23063.21\n",
       "492  05-Jun-24  23374.23  23938.24  22918.86  23893.21\n",
       "493  06-Jun-24  24124.04  24233.50  23964.33  24143.80\n",
       "494  07-Jun-24  24153.28  24624.63  24101.15  24603.47\n",
       "\n",
       "[495 rows x 5 columns]"
      ]
     },
     "execution_count": 5,
     "metadata": {},
     "output_type": "execute_result"
    }
   ],
   "source": [
    "sensex_data"
   ]
  },
  {
   "cell_type": "code",
   "execution_count": 6,
   "metadata": {},
   "outputs": [],
   "source": [
    "# convert every date column to datetime format in order to do an inner join\n",
    "sentiment_data['Date'] = pd.to_datetime(sentiment_data['Date'], format='%Y-%m-%d')\n",
    "mf_nav['NAV date'] = pd.to_datetime(mf_nav['NAV date'], format='%d-%b-%y')\n",
    "sensex_data['Date'] = pd.to_datetime(sensex_data['Date'], format='%d-%b-%y')"
   ]
  },
  {
   "cell_type": "code",
   "execution_count": 7,
   "metadata": {},
   "outputs": [
    {
     "data": {
      "text/plain": [
       "Index(['Unnamed: 0.2', 'Unnamed: 0.1', 'Unnamed: 0', 'Date', 'Headlines',\n",
       "       'Processed_headlines', 'Positive Scores', 'Negative Scores',\n",
       "       'Neutral Scores', 'Compound Scores'],\n",
       "      dtype='object')"
      ]
     },
     "execution_count": 7,
     "metadata": {},
     "output_type": "execute_result"
    }
   ],
   "source": [
    "sentiment_data.columns"
   ]
  },
  {
   "cell_type": "code",
   "execution_count": 8,
   "metadata": {},
   "outputs": [
    {
     "data": {
      "text/plain": [
       "Index(['Net Asset Value', 'Repurchase Price', 'Sale Price', 'NAV date'], dtype='object')"
      ]
     },
     "execution_count": 8,
     "metadata": {},
     "output_type": "execute_result"
    }
   ],
   "source": [
    "mf_nav.columns"
   ]
  },
  {
   "cell_type": "code",
   "execution_count": 9,
   "metadata": {},
   "outputs": [
    {
     "data": {
      "text/plain": [
       "Index(['Date', 'Open', 'High', 'Low', 'Close'], dtype='object')"
      ]
     },
     "execution_count": 9,
     "metadata": {},
     "output_type": "execute_result"
    }
   ],
   "source": [
    "sensex_data.columns"
   ]
  },
  {
   "cell_type": "code",
   "execution_count": 10,
   "metadata": {},
   "outputs": [],
   "source": [
    "mf_nav_dropped = mf_nav.drop(columns=['Repurchase Price', 'Sale Price'], axis = 1)"
   ]
  },
  {
   "cell_type": "code",
   "execution_count": 11,
   "metadata": {},
   "outputs": [],
   "source": [
    "senti_dropped = sentiment_data.drop(columns=['Unnamed: 0.2', 'Unnamed: 0.1', 'Unnamed: 0', 'Headlines', 'Processed_headlines'], axis = 1)"
   ]
  },
  {
   "cell_type": "code",
   "execution_count": 12,
   "metadata": {},
   "outputs": [
    {
     "data": {
      "text/html": [
       "<div>\n",
       "<style scoped>\n",
       "    .dataframe tbody tr th:only-of-type {\n",
       "        vertical-align: middle;\n",
       "    }\n",
       "\n",
       "    .dataframe tbody tr th {\n",
       "        vertical-align: top;\n",
       "    }\n",
       "\n",
       "    .dataframe thead th {\n",
       "        text-align: right;\n",
       "    }\n",
       "</style>\n",
       "<table border=\"1\" class=\"dataframe\">\n",
       "  <thead>\n",
       "    <tr style=\"text-align: right;\">\n",
       "      <th></th>\n",
       "      <th>Date</th>\n",
       "      <th>Positive Scores</th>\n",
       "      <th>Negative Scores</th>\n",
       "      <th>Neutral Scores</th>\n",
       "      <th>Compound Scores</th>\n",
       "    </tr>\n",
       "  </thead>\n",
       "  <tbody>\n",
       "    <tr>\n",
       "      <th>0</th>\n",
       "      <td>2022-06-08</td>\n",
       "      <td>0.110808</td>\n",
       "      <td>0.073270</td>\n",
       "      <td>0.815934</td>\n",
       "      <td>0.044268</td>\n",
       "    </tr>\n",
       "    <tr>\n",
       "      <th>1</th>\n",
       "      <td>2022-06-09</td>\n",
       "      <td>0.148782</td>\n",
       "      <td>0.076613</td>\n",
       "      <td>0.774605</td>\n",
       "      <td>0.093870</td>\n",
       "    </tr>\n",
       "    <tr>\n",
       "      <th>2</th>\n",
       "      <td>2022-06-10</td>\n",
       "      <td>0.130858</td>\n",
       "      <td>0.098172</td>\n",
       "      <td>0.770968</td>\n",
       "      <td>0.036928</td>\n",
       "    </tr>\n",
       "    <tr>\n",
       "      <th>3</th>\n",
       "      <td>2022-06-11</td>\n",
       "      <td>0.105064</td>\n",
       "      <td>0.102094</td>\n",
       "      <td>0.792850</td>\n",
       "      <td>-0.008721</td>\n",
       "    </tr>\n",
       "    <tr>\n",
       "      <th>4</th>\n",
       "      <td>2022-06-12</td>\n",
       "      <td>0.100937</td>\n",
       "      <td>0.124604</td>\n",
       "      <td>0.774458</td>\n",
       "      <td>-0.042125</td>\n",
       "    </tr>\n",
       "    <tr>\n",
       "      <th>...</th>\n",
       "      <td>...</td>\n",
       "      <td>...</td>\n",
       "      <td>...</td>\n",
       "      <td>...</td>\n",
       "      <td>...</td>\n",
       "    </tr>\n",
       "    <tr>\n",
       "      <th>726</th>\n",
       "      <td>2024-06-03</td>\n",
       "      <td>0.140942</td>\n",
       "      <td>0.073648</td>\n",
       "      <td>0.785410</td>\n",
       "      <td>0.094385</td>\n",
       "    </tr>\n",
       "    <tr>\n",
       "      <th>727</th>\n",
       "      <td>2024-06-04</td>\n",
       "      <td>0.167072</td>\n",
       "      <td>0.078026</td>\n",
       "      <td>0.754926</td>\n",
       "      <td>0.156232</td>\n",
       "    </tr>\n",
       "    <tr>\n",
       "      <th>728</th>\n",
       "      <td>2024-06-05</td>\n",
       "      <td>0.162856</td>\n",
       "      <td>0.077198</td>\n",
       "      <td>0.759950</td>\n",
       "      <td>0.122053</td>\n",
       "    </tr>\n",
       "    <tr>\n",
       "      <th>729</th>\n",
       "      <td>2024-06-06</td>\n",
       "      <td>0.157706</td>\n",
       "      <td>0.077356</td>\n",
       "      <td>0.764926</td>\n",
       "      <td>0.100804</td>\n",
       "    </tr>\n",
       "    <tr>\n",
       "      <th>730</th>\n",
       "      <td>2024-06-07</td>\n",
       "      <td>0.155110</td>\n",
       "      <td>0.067050</td>\n",
       "      <td>0.777844</td>\n",
       "      <td>0.108048</td>\n",
       "    </tr>\n",
       "  </tbody>\n",
       "</table>\n",
       "<p>731 rows × 5 columns</p>\n",
       "</div>"
      ],
      "text/plain": [
       "          Date  Positive Scores  Negative Scores  Neutral Scores  \\\n",
       "0   2022-06-08         0.110808         0.073270        0.815934   \n",
       "1   2022-06-09         0.148782         0.076613        0.774605   \n",
       "2   2022-06-10         0.130858         0.098172        0.770968   \n",
       "3   2022-06-11         0.105064         0.102094        0.792850   \n",
       "4   2022-06-12         0.100937         0.124604        0.774458   \n",
       "..         ...              ...              ...             ...   \n",
       "726 2024-06-03         0.140942         0.073648        0.785410   \n",
       "727 2024-06-04         0.167072         0.078026        0.754926   \n",
       "728 2024-06-05         0.162856         0.077198        0.759950   \n",
       "729 2024-06-06         0.157706         0.077356        0.764926   \n",
       "730 2024-06-07         0.155110         0.067050        0.777844   \n",
       "\n",
       "     Compound Scores  \n",
       "0           0.044268  \n",
       "1           0.093870  \n",
       "2           0.036928  \n",
       "3          -0.008721  \n",
       "4          -0.042125  \n",
       "..               ...  \n",
       "726         0.094385  \n",
       "727         0.156232  \n",
       "728         0.122053  \n",
       "729         0.100804  \n",
       "730         0.108048  \n",
       "\n",
       "[731 rows x 5 columns]"
      ]
     },
     "execution_count": 12,
     "metadata": {},
     "output_type": "execute_result"
    }
   ],
   "source": [
    "senti_dropped"
   ]
  },
  {
   "cell_type": "code",
   "execution_count": 13,
   "metadata": {},
   "outputs": [
    {
     "data": {
      "text/html": [
       "<div>\n",
       "<style scoped>\n",
       "    .dataframe tbody tr th:only-of-type {\n",
       "        vertical-align: middle;\n",
       "    }\n",
       "\n",
       "    .dataframe tbody tr th {\n",
       "        vertical-align: top;\n",
       "    }\n",
       "\n",
       "    .dataframe thead th {\n",
       "        text-align: right;\n",
       "    }\n",
       "</style>\n",
       "<table border=\"1\" class=\"dataframe\">\n",
       "  <thead>\n",
       "    <tr style=\"text-align: right;\">\n",
       "      <th></th>\n",
       "      <th>Net Asset Value</th>\n",
       "      <th>NAV date</th>\n",
       "    </tr>\n",
       "  </thead>\n",
       "  <tbody>\n",
       "    <tr>\n",
       "      <th>0</th>\n",
       "      <td>48.5691</td>\n",
       "      <td>2021-01-01</td>\n",
       "    </tr>\n",
       "    <tr>\n",
       "      <th>1</th>\n",
       "      <td>49.1367</td>\n",
       "      <td>2021-01-04</td>\n",
       "    </tr>\n",
       "    <tr>\n",
       "      <th>2</th>\n",
       "      <td>49.3475</td>\n",
       "      <td>2021-01-05</td>\n",
       "    </tr>\n",
       "    <tr>\n",
       "      <th>3</th>\n",
       "      <td>49.3500</td>\n",
       "      <td>2021-01-06</td>\n",
       "    </tr>\n",
       "    <tr>\n",
       "      <th>4</th>\n",
       "      <td>49.3713</td>\n",
       "      <td>2021-01-07</td>\n",
       "    </tr>\n",
       "    <tr>\n",
       "      <th>...</th>\n",
       "      <td>...</td>\n",
       "      <td>...</td>\n",
       "    </tr>\n",
       "    <tr>\n",
       "      <th>840</th>\n",
       "      <td>84.4289</td>\n",
       "      <td>2024-06-03</td>\n",
       "    </tr>\n",
       "    <tr>\n",
       "      <th>841</th>\n",
       "      <td>80.6477</td>\n",
       "      <td>2024-06-04</td>\n",
       "    </tr>\n",
       "    <tr>\n",
       "      <th>842</th>\n",
       "      <td>83.1941</td>\n",
       "      <td>2024-06-05</td>\n",
       "    </tr>\n",
       "    <tr>\n",
       "      <th>843</th>\n",
       "      <td>83.9987</td>\n",
       "      <td>2024-06-06</td>\n",
       "    </tr>\n",
       "    <tr>\n",
       "      <th>844</th>\n",
       "      <td>85.1902</td>\n",
       "      <td>2024-06-07</td>\n",
       "    </tr>\n",
       "  </tbody>\n",
       "</table>\n",
       "<p>845 rows × 2 columns</p>\n",
       "</div>"
      ],
      "text/plain": [
       "     Net Asset Value   NAV date\n",
       "0            48.5691 2021-01-01\n",
       "1            49.1367 2021-01-04\n",
       "2            49.3475 2021-01-05\n",
       "3            49.3500 2021-01-06\n",
       "4            49.3713 2021-01-07\n",
       "..               ...        ...\n",
       "840          84.4289 2024-06-03\n",
       "841          80.6477 2024-06-04\n",
       "842          83.1941 2024-06-05\n",
       "843          83.9987 2024-06-06\n",
       "844          85.1902 2024-06-07\n",
       "\n",
       "[845 rows x 2 columns]"
      ]
     },
     "execution_count": 13,
     "metadata": {},
     "output_type": "execute_result"
    }
   ],
   "source": [
    "mf_nav_dropped"
   ]
  },
  {
   "cell_type": "code",
   "execution_count": 14,
   "metadata": {},
   "outputs": [
    {
     "data": {
      "text/html": [
       "<div>\n",
       "<style scoped>\n",
       "    .dataframe tbody tr th:only-of-type {\n",
       "        vertical-align: middle;\n",
       "    }\n",
       "\n",
       "    .dataframe tbody tr th {\n",
       "        vertical-align: top;\n",
       "    }\n",
       "\n",
       "    .dataframe thead th {\n",
       "        text-align: right;\n",
       "    }\n",
       "</style>\n",
       "<table border=\"1\" class=\"dataframe\">\n",
       "  <thead>\n",
       "    <tr style=\"text-align: right;\">\n",
       "      <th></th>\n",
       "      <th>Date</th>\n",
       "      <th>Open</th>\n",
       "      <th>High</th>\n",
       "      <th>Low</th>\n",
       "      <th>Close</th>\n",
       "    </tr>\n",
       "  </thead>\n",
       "  <tbody>\n",
       "    <tr>\n",
       "      <th>0</th>\n",
       "      <td>2022-06-08</td>\n",
       "      <td>16743.46</td>\n",
       "      <td>16773.05</td>\n",
       "      <td>16552.32</td>\n",
       "      <td>16611.74</td>\n",
       "    </tr>\n",
       "    <tr>\n",
       "      <th>1</th>\n",
       "      <td>2022-06-09</td>\n",
       "      <td>16517.01</td>\n",
       "      <td>16747.58</td>\n",
       "      <td>16493.99</td>\n",
       "      <td>16735.73</td>\n",
       "    </tr>\n",
       "    <tr>\n",
       "      <th>2</th>\n",
       "      <td>2022-06-10</td>\n",
       "      <td>16577.80</td>\n",
       "      <td>16586.87</td>\n",
       "      <td>16443.15</td>\n",
       "      <td>16470.88</td>\n",
       "    </tr>\n",
       "    <tr>\n",
       "      <th>3</th>\n",
       "      <td>2022-06-13</td>\n",
       "      <td>16154.96</td>\n",
       "      <td>16155.96</td>\n",
       "      <td>15967.70</td>\n",
       "      <td>16051.03</td>\n",
       "    </tr>\n",
       "    <tr>\n",
       "      <th>4</th>\n",
       "      <td>2022-06-14</td>\n",
       "      <td>15956.47</td>\n",
       "      <td>16147.67</td>\n",
       "      <td>15934.82</td>\n",
       "      <td>16014.37</td>\n",
       "    </tr>\n",
       "    <tr>\n",
       "      <th>...</th>\n",
       "      <td>...</td>\n",
       "      <td>...</td>\n",
       "      <td>...</td>\n",
       "      <td>...</td>\n",
       "      <td>...</td>\n",
       "    </tr>\n",
       "    <tr>\n",
       "      <th>490</th>\n",
       "      <td>2024-06-03</td>\n",
       "      <td>24629.93</td>\n",
       "      <td>24678.32</td>\n",
       "      <td>24357.25</td>\n",
       "      <td>24570.88</td>\n",
       "    </tr>\n",
       "    <tr>\n",
       "      <th>491</th>\n",
       "      <td>2024-06-04</td>\n",
       "      <td>24538.98</td>\n",
       "      <td>24538.98</td>\n",
       "      <td>22334.49</td>\n",
       "      <td>23063.21</td>\n",
       "    </tr>\n",
       "    <tr>\n",
       "      <th>492</th>\n",
       "      <td>2024-06-05</td>\n",
       "      <td>23374.23</td>\n",
       "      <td>23938.24</td>\n",
       "      <td>22918.86</td>\n",
       "      <td>23893.21</td>\n",
       "    </tr>\n",
       "    <tr>\n",
       "      <th>493</th>\n",
       "      <td>2024-06-06</td>\n",
       "      <td>24124.04</td>\n",
       "      <td>24233.50</td>\n",
       "      <td>23964.33</td>\n",
       "      <td>24143.80</td>\n",
       "    </tr>\n",
       "    <tr>\n",
       "      <th>494</th>\n",
       "      <td>2024-06-07</td>\n",
       "      <td>24153.28</td>\n",
       "      <td>24624.63</td>\n",
       "      <td>24101.15</td>\n",
       "      <td>24603.47</td>\n",
       "    </tr>\n",
       "  </tbody>\n",
       "</table>\n",
       "<p>495 rows × 5 columns</p>\n",
       "</div>"
      ],
      "text/plain": [
       "          Date      Open      High       Low     Close\n",
       "0   2022-06-08  16743.46  16773.05  16552.32  16611.74\n",
       "1   2022-06-09  16517.01  16747.58  16493.99  16735.73\n",
       "2   2022-06-10  16577.80  16586.87  16443.15  16470.88\n",
       "3   2022-06-13  16154.96  16155.96  15967.70  16051.03\n",
       "4   2022-06-14  15956.47  16147.67  15934.82  16014.37\n",
       "..         ...       ...       ...       ...       ...\n",
       "490 2024-06-03  24629.93  24678.32  24357.25  24570.88\n",
       "491 2024-06-04  24538.98  24538.98  22334.49  23063.21\n",
       "492 2024-06-05  23374.23  23938.24  22918.86  23893.21\n",
       "493 2024-06-06  24124.04  24233.50  23964.33  24143.80\n",
       "494 2024-06-07  24153.28  24624.63  24101.15  24603.47\n",
       "\n",
       "[495 rows x 5 columns]"
      ]
     },
     "execution_count": 14,
     "metadata": {},
     "output_type": "execute_result"
    }
   ],
   "source": [
    "sensex_data"
   ]
  },
  {
   "cell_type": "markdown",
   "metadata": {},
   "source": [
    "Now we shall merge the three dataframes, first with the sentiment data and Sensex data, then with "
   ]
  },
  {
   "cell_type": "code",
   "execution_count": 15,
   "metadata": {},
   "outputs": [],
   "source": [
    "first_merged = pd.merge(senti_dropped, sensex_data, how=\"inner\")"
   ]
  },
  {
   "cell_type": "code",
   "execution_count": 16,
   "metadata": {},
   "outputs": [
    {
     "data": {
      "text/html": [
       "<div>\n",
       "<style scoped>\n",
       "    .dataframe tbody tr th:only-of-type {\n",
       "        vertical-align: middle;\n",
       "    }\n",
       "\n",
       "    .dataframe tbody tr th {\n",
       "        vertical-align: top;\n",
       "    }\n",
       "\n",
       "    .dataframe thead th {\n",
       "        text-align: right;\n",
       "    }\n",
       "</style>\n",
       "<table border=\"1\" class=\"dataframe\">\n",
       "  <thead>\n",
       "    <tr style=\"text-align: right;\">\n",
       "      <th></th>\n",
       "      <th>Date</th>\n",
       "      <th>Positive Scores</th>\n",
       "      <th>Negative Scores</th>\n",
       "      <th>Neutral Scores</th>\n",
       "      <th>Compound Scores</th>\n",
       "      <th>Open</th>\n",
       "      <th>High</th>\n",
       "      <th>Low</th>\n",
       "      <th>Close</th>\n",
       "    </tr>\n",
       "  </thead>\n",
       "  <tbody>\n",
       "    <tr>\n",
       "      <th>0</th>\n",
       "      <td>2022-06-08</td>\n",
       "      <td>0.110808</td>\n",
       "      <td>0.073270</td>\n",
       "      <td>0.815934</td>\n",
       "      <td>0.044268</td>\n",
       "      <td>16743.46</td>\n",
       "      <td>16773.05</td>\n",
       "      <td>16552.32</td>\n",
       "      <td>16611.74</td>\n",
       "    </tr>\n",
       "    <tr>\n",
       "      <th>1</th>\n",
       "      <td>2022-06-09</td>\n",
       "      <td>0.148782</td>\n",
       "      <td>0.076613</td>\n",
       "      <td>0.774605</td>\n",
       "      <td>0.093870</td>\n",
       "      <td>16517.01</td>\n",
       "      <td>16747.58</td>\n",
       "      <td>16493.99</td>\n",
       "      <td>16735.73</td>\n",
       "    </tr>\n",
       "    <tr>\n",
       "      <th>2</th>\n",
       "      <td>2022-06-10</td>\n",
       "      <td>0.130858</td>\n",
       "      <td>0.098172</td>\n",
       "      <td>0.770968</td>\n",
       "      <td>0.036928</td>\n",
       "      <td>16577.80</td>\n",
       "      <td>16586.87</td>\n",
       "      <td>16443.15</td>\n",
       "      <td>16470.88</td>\n",
       "    </tr>\n",
       "    <tr>\n",
       "      <th>3</th>\n",
       "      <td>2022-06-13</td>\n",
       "      <td>0.128198</td>\n",
       "      <td>0.081780</td>\n",
       "      <td>0.790026</td>\n",
       "      <td>0.056796</td>\n",
       "      <td>16154.96</td>\n",
       "      <td>16155.96</td>\n",
       "      <td>15967.70</td>\n",
       "      <td>16051.03</td>\n",
       "    </tr>\n",
       "    <tr>\n",
       "      <th>4</th>\n",
       "      <td>2022-06-14</td>\n",
       "      <td>0.128470</td>\n",
       "      <td>0.069632</td>\n",
       "      <td>0.801916</td>\n",
       "      <td>0.064638</td>\n",
       "      <td>15956.47</td>\n",
       "      <td>16147.67</td>\n",
       "      <td>15934.82</td>\n",
       "      <td>16014.37</td>\n",
       "    </tr>\n",
       "    <tr>\n",
       "      <th>...</th>\n",
       "      <td>...</td>\n",
       "      <td>...</td>\n",
       "      <td>...</td>\n",
       "      <td>...</td>\n",
       "      <td>...</td>\n",
       "      <td>...</td>\n",
       "      <td>...</td>\n",
       "      <td>...</td>\n",
       "      <td>...</td>\n",
       "    </tr>\n",
       "    <tr>\n",
       "      <th>490</th>\n",
       "      <td>2024-06-03</td>\n",
       "      <td>0.140942</td>\n",
       "      <td>0.073648</td>\n",
       "      <td>0.785410</td>\n",
       "      <td>0.094385</td>\n",
       "      <td>24629.93</td>\n",
       "      <td>24678.32</td>\n",
       "      <td>24357.25</td>\n",
       "      <td>24570.88</td>\n",
       "    </tr>\n",
       "    <tr>\n",
       "      <th>491</th>\n",
       "      <td>2024-06-04</td>\n",
       "      <td>0.167072</td>\n",
       "      <td>0.078026</td>\n",
       "      <td>0.754926</td>\n",
       "      <td>0.156232</td>\n",
       "      <td>24538.98</td>\n",
       "      <td>24538.98</td>\n",
       "      <td>22334.49</td>\n",
       "      <td>23063.21</td>\n",
       "    </tr>\n",
       "    <tr>\n",
       "      <th>492</th>\n",
       "      <td>2024-06-05</td>\n",
       "      <td>0.162856</td>\n",
       "      <td>0.077198</td>\n",
       "      <td>0.759950</td>\n",
       "      <td>0.122053</td>\n",
       "      <td>23374.23</td>\n",
       "      <td>23938.24</td>\n",
       "      <td>22918.86</td>\n",
       "      <td>23893.21</td>\n",
       "    </tr>\n",
       "    <tr>\n",
       "      <th>493</th>\n",
       "      <td>2024-06-06</td>\n",
       "      <td>0.157706</td>\n",
       "      <td>0.077356</td>\n",
       "      <td>0.764926</td>\n",
       "      <td>0.100804</td>\n",
       "      <td>24124.04</td>\n",
       "      <td>24233.50</td>\n",
       "      <td>23964.33</td>\n",
       "      <td>24143.80</td>\n",
       "    </tr>\n",
       "    <tr>\n",
       "      <th>494</th>\n",
       "      <td>2024-06-07</td>\n",
       "      <td>0.155110</td>\n",
       "      <td>0.067050</td>\n",
       "      <td>0.777844</td>\n",
       "      <td>0.108048</td>\n",
       "      <td>24153.28</td>\n",
       "      <td>24624.63</td>\n",
       "      <td>24101.15</td>\n",
       "      <td>24603.47</td>\n",
       "    </tr>\n",
       "  </tbody>\n",
       "</table>\n",
       "<p>495 rows × 9 columns</p>\n",
       "</div>"
      ],
      "text/plain": [
       "          Date  Positive Scores  Negative Scores  Neutral Scores  \\\n",
       "0   2022-06-08         0.110808         0.073270        0.815934   \n",
       "1   2022-06-09         0.148782         0.076613        0.774605   \n",
       "2   2022-06-10         0.130858         0.098172        0.770968   \n",
       "3   2022-06-13         0.128198         0.081780        0.790026   \n",
       "4   2022-06-14         0.128470         0.069632        0.801916   \n",
       "..         ...              ...              ...             ...   \n",
       "490 2024-06-03         0.140942         0.073648        0.785410   \n",
       "491 2024-06-04         0.167072         0.078026        0.754926   \n",
       "492 2024-06-05         0.162856         0.077198        0.759950   \n",
       "493 2024-06-06         0.157706         0.077356        0.764926   \n",
       "494 2024-06-07         0.155110         0.067050        0.777844   \n",
       "\n",
       "     Compound Scores      Open      High       Low     Close  \n",
       "0           0.044268  16743.46  16773.05  16552.32  16611.74  \n",
       "1           0.093870  16517.01  16747.58  16493.99  16735.73  \n",
       "2           0.036928  16577.80  16586.87  16443.15  16470.88  \n",
       "3           0.056796  16154.96  16155.96  15967.70  16051.03  \n",
       "4           0.064638  15956.47  16147.67  15934.82  16014.37  \n",
       "..               ...       ...       ...       ...       ...  \n",
       "490         0.094385  24629.93  24678.32  24357.25  24570.88  \n",
       "491         0.156232  24538.98  24538.98  22334.49  23063.21  \n",
       "492         0.122053  23374.23  23938.24  22918.86  23893.21  \n",
       "493         0.100804  24124.04  24233.50  23964.33  24143.80  \n",
       "494         0.108048  24153.28  24624.63  24101.15  24603.47  \n",
       "\n",
       "[495 rows x 9 columns]"
      ]
     },
     "execution_count": 16,
     "metadata": {},
     "output_type": "execute_result"
    }
   ],
   "source": [
    "first_merged"
   ]
  },
  {
   "cell_type": "code",
   "execution_count": 17,
   "metadata": {},
   "outputs": [],
   "source": [
    "dataset = pd.merge(first_merged, mf_nav_dropped, left_on='Date', right_on='NAV date', how='inner')"
   ]
  },
  {
   "cell_type": "code",
   "execution_count": 18,
   "metadata": {},
   "outputs": [],
   "source": [
    "# now we can drop the \"NAV date\" column as it is the same as the \"Date\" column\n",
    "dataset = dataset.drop(columns=['NAV date'], axis=1)"
   ]
  },
  {
   "cell_type": "code",
   "execution_count": 19,
   "metadata": {},
   "outputs": [
    {
     "data": {
      "text/html": [
       "<div>\n",
       "<style scoped>\n",
       "    .dataframe tbody tr th:only-of-type {\n",
       "        vertical-align: middle;\n",
       "    }\n",
       "\n",
       "    .dataframe tbody tr th {\n",
       "        vertical-align: top;\n",
       "    }\n",
       "\n",
       "    .dataframe thead th {\n",
       "        text-align: right;\n",
       "    }\n",
       "</style>\n",
       "<table border=\"1\" class=\"dataframe\">\n",
       "  <thead>\n",
       "    <tr style=\"text-align: right;\">\n",
       "      <th></th>\n",
       "      <th>Date</th>\n",
       "      <th>Positive Scores</th>\n",
       "      <th>Negative Scores</th>\n",
       "      <th>Neutral Scores</th>\n",
       "      <th>Compound Scores</th>\n",
       "      <th>Open</th>\n",
       "      <th>High</th>\n",
       "      <th>Low</th>\n",
       "      <th>Close</th>\n",
       "      <th>Net Asset Value</th>\n",
       "    </tr>\n",
       "  </thead>\n",
       "  <tbody>\n",
       "    <tr>\n",
       "      <th>0</th>\n",
       "      <td>2022-06-08</td>\n",
       "      <td>0.110808</td>\n",
       "      <td>0.073270</td>\n",
       "      <td>0.815934</td>\n",
       "      <td>0.044268</td>\n",
       "      <td>16743.46</td>\n",
       "      <td>16773.05</td>\n",
       "      <td>16552.32</td>\n",
       "      <td>16611.74</td>\n",
       "      <td>56.7042</td>\n",
       "    </tr>\n",
       "    <tr>\n",
       "      <th>1</th>\n",
       "      <td>2022-06-09</td>\n",
       "      <td>0.148782</td>\n",
       "      <td>0.076613</td>\n",
       "      <td>0.774605</td>\n",
       "      <td>0.093870</td>\n",
       "      <td>16517.01</td>\n",
       "      <td>16747.58</td>\n",
       "      <td>16493.99</td>\n",
       "      <td>16735.73</td>\n",
       "      <td>57.0767</td>\n",
       "    </tr>\n",
       "    <tr>\n",
       "      <th>2</th>\n",
       "      <td>2022-06-10</td>\n",
       "      <td>0.130858</td>\n",
       "      <td>0.098172</td>\n",
       "      <td>0.770968</td>\n",
       "      <td>0.036928</td>\n",
       "      <td>16577.80</td>\n",
       "      <td>16586.87</td>\n",
       "      <td>16443.15</td>\n",
       "      <td>16470.88</td>\n",
       "      <td>56.3738</td>\n",
       "    </tr>\n",
       "    <tr>\n",
       "      <th>3</th>\n",
       "      <td>2022-06-13</td>\n",
       "      <td>0.128198</td>\n",
       "      <td>0.081780</td>\n",
       "      <td>0.790026</td>\n",
       "      <td>0.056796</td>\n",
       "      <td>16154.96</td>\n",
       "      <td>16155.96</td>\n",
       "      <td>15967.70</td>\n",
       "      <td>16051.03</td>\n",
       "      <td>55.0474</td>\n",
       "    </tr>\n",
       "    <tr>\n",
       "      <th>4</th>\n",
       "      <td>2022-06-14</td>\n",
       "      <td>0.128470</td>\n",
       "      <td>0.069632</td>\n",
       "      <td>0.801916</td>\n",
       "      <td>0.064638</td>\n",
       "      <td>15956.47</td>\n",
       "      <td>16147.67</td>\n",
       "      <td>15934.82</td>\n",
       "      <td>16014.37</td>\n",
       "      <td>55.0272</td>\n",
       "    </tr>\n",
       "    <tr>\n",
       "      <th>...</th>\n",
       "      <td>...</td>\n",
       "      <td>...</td>\n",
       "      <td>...</td>\n",
       "      <td>...</td>\n",
       "      <td>...</td>\n",
       "      <td>...</td>\n",
       "      <td>...</td>\n",
       "      <td>...</td>\n",
       "      <td>...</td>\n",
       "      <td>...</td>\n",
       "    </tr>\n",
       "    <tr>\n",
       "      <th>484</th>\n",
       "      <td>2024-06-03</td>\n",
       "      <td>0.140942</td>\n",
       "      <td>0.073648</td>\n",
       "      <td>0.785410</td>\n",
       "      <td>0.094385</td>\n",
       "      <td>24629.93</td>\n",
       "      <td>24678.32</td>\n",
       "      <td>24357.25</td>\n",
       "      <td>24570.88</td>\n",
       "      <td>84.4289</td>\n",
       "    </tr>\n",
       "    <tr>\n",
       "      <th>485</th>\n",
       "      <td>2024-06-04</td>\n",
       "      <td>0.167072</td>\n",
       "      <td>0.078026</td>\n",
       "      <td>0.754926</td>\n",
       "      <td>0.156232</td>\n",
       "      <td>24538.98</td>\n",
       "      <td>24538.98</td>\n",
       "      <td>22334.49</td>\n",
       "      <td>23063.21</td>\n",
       "      <td>80.6477</td>\n",
       "    </tr>\n",
       "    <tr>\n",
       "      <th>486</th>\n",
       "      <td>2024-06-05</td>\n",
       "      <td>0.162856</td>\n",
       "      <td>0.077198</td>\n",
       "      <td>0.759950</td>\n",
       "      <td>0.122053</td>\n",
       "      <td>23374.23</td>\n",
       "      <td>23938.24</td>\n",
       "      <td>22918.86</td>\n",
       "      <td>23893.21</td>\n",
       "      <td>83.1941</td>\n",
       "    </tr>\n",
       "    <tr>\n",
       "      <th>487</th>\n",
       "      <td>2024-06-06</td>\n",
       "      <td>0.157706</td>\n",
       "      <td>0.077356</td>\n",
       "      <td>0.764926</td>\n",
       "      <td>0.100804</td>\n",
       "      <td>24124.04</td>\n",
       "      <td>24233.50</td>\n",
       "      <td>23964.33</td>\n",
       "      <td>24143.80</td>\n",
       "      <td>83.9987</td>\n",
       "    </tr>\n",
       "    <tr>\n",
       "      <th>488</th>\n",
       "      <td>2024-06-07</td>\n",
       "      <td>0.155110</td>\n",
       "      <td>0.067050</td>\n",
       "      <td>0.777844</td>\n",
       "      <td>0.108048</td>\n",
       "      <td>24153.28</td>\n",
       "      <td>24624.63</td>\n",
       "      <td>24101.15</td>\n",
       "      <td>24603.47</td>\n",
       "      <td>85.1902</td>\n",
       "    </tr>\n",
       "  </tbody>\n",
       "</table>\n",
       "<p>489 rows × 10 columns</p>\n",
       "</div>"
      ],
      "text/plain": [
       "          Date  Positive Scores  Negative Scores  Neutral Scores  \\\n",
       "0   2022-06-08         0.110808         0.073270        0.815934   \n",
       "1   2022-06-09         0.148782         0.076613        0.774605   \n",
       "2   2022-06-10         0.130858         0.098172        0.770968   \n",
       "3   2022-06-13         0.128198         0.081780        0.790026   \n",
       "4   2022-06-14         0.128470         0.069632        0.801916   \n",
       "..         ...              ...              ...             ...   \n",
       "484 2024-06-03         0.140942         0.073648        0.785410   \n",
       "485 2024-06-04         0.167072         0.078026        0.754926   \n",
       "486 2024-06-05         0.162856         0.077198        0.759950   \n",
       "487 2024-06-06         0.157706         0.077356        0.764926   \n",
       "488 2024-06-07         0.155110         0.067050        0.777844   \n",
       "\n",
       "     Compound Scores      Open      High       Low     Close  Net Asset Value  \n",
       "0           0.044268  16743.46  16773.05  16552.32  16611.74          56.7042  \n",
       "1           0.093870  16517.01  16747.58  16493.99  16735.73          57.0767  \n",
       "2           0.036928  16577.80  16586.87  16443.15  16470.88          56.3738  \n",
       "3           0.056796  16154.96  16155.96  15967.70  16051.03          55.0474  \n",
       "4           0.064638  15956.47  16147.67  15934.82  16014.37          55.0272  \n",
       "..               ...       ...       ...       ...       ...              ...  \n",
       "484         0.094385  24629.93  24678.32  24357.25  24570.88          84.4289  \n",
       "485         0.156232  24538.98  24538.98  22334.49  23063.21          80.6477  \n",
       "486         0.122053  23374.23  23938.24  22918.86  23893.21          83.1941  \n",
       "487         0.100804  24124.04  24233.50  23964.33  24143.80          83.9987  \n",
       "488         0.108048  24153.28  24624.63  24101.15  24603.47          85.1902  \n",
       "\n",
       "[489 rows x 10 columns]"
      ]
     },
     "execution_count": 19,
     "metadata": {},
     "output_type": "execute_result"
    }
   ],
   "source": [
    "dataset"
   ]
  },
  {
   "cell_type": "markdown",
   "metadata": {},
   "source": [
    "Let us observe the plots between each feature and the NAV column"
   ]
  },
  {
   "cell_type": "code",
   "execution_count": 20,
   "metadata": {},
   "outputs": [
    {
     "data": {
      "image/png": "[encoded data removed]",
      "text/plain": [
       "<Figure size 640x480 with 1 Axes>"
      ]
     },
     "metadata": {},
     "output_type": "display_data"
    },
    {
     "data": {
      "image/png": "[encoded data removed]",
      "text/plain": [
       "<Figure size 640x480 with 1 Axes>"
      ]
     },
     "metadata": {},
     "output_type": "display_data"
    },
    {
     "data": {
      "image/png": "[encoded data removed]",
      "text/plain": [
       "<Figure size 640x480 with 1 Axes>"
      ]
     },
     "metadata": {},
     "output_type": "display_data"
    },
    {
     "data": {
      "image/png": "[encoded data removed]",
      "text/plain": [
       "<Figure size 640x480 with 1 Axes>"
      ]
     },
     "metadata": {},
     "output_type": "display_data"
    },
    {
     "data": {
      "image/png": "[encoded data removed]",
      "text/plain": [
       "<Figure size 640x480 with 1 Axes>"
      ]
     },
     "metadata": {},
     "output_type": "display_data"
    },
    {
     "data": {
      "image/png": "[encoded data removed]",
      "text/plain": [
       "<Figure size 640x480 with 1 Axes>"
      ]
     },
     "metadata": {},
     "output_type": "display_data"
    },
    {
     "data": {
      "image/png": "[encoded data removed]",
      "text/plain": [
       "<Figure size 640x480 with 1 Axes>"
      ]
     },
     "metadata": {},
     "output_type": "display_data"
    },
    {
     "data": {
      "image/png": "[encoded data removed]",
      "text/plain": [
       "<Figure size 640x480 with 1 Axes>"
      ]
     },
     "metadata": {},
     "output_type": "display_data"
    },
    {
     "data": {
      "image/png": "[encoded data removed]",
      "text/plain": [
       "<Figure size 640x480 with 1 Axes>"
      ]
     },
     "metadata": {},
     "output_type": "display_data"
    }
   ],
   "source": [
    "columns = ['Date', 'Positive Scores', 'Negative Scores', 'Neutral Scores', 'Compound Scores', 'Open', 'High', 'Low', 'Close']\n",
    "for col in columns:\n",
    "    plt.scatter(dataset[col], dataset['Net Asset Value'])\n",
    "    plt.ylabel('Net Asset Value')\n",
    "    plt.xlabel(col)\n",
    "    plt.show()"
   ]
  },
  {
   "cell_type": "markdown",
   "metadata": {},
   "source": [
    "We finally have our dataset. Now we preprocess the dataset and move on to the ML part of the project."
   ]
  },
  {
   "cell_type": "markdown",
   "metadata": {},
   "source": [
    "While there does not appear to be a lot of relation between sentiment scores and NAV, however, let us try to see how models work to analyze the depth of this influence."
   ]
  },
  {
   "cell_type": "markdown",
   "metadata": {},
   "source": [
    "## 2. Machine learning on the final dataset"
   ]
  },
  {
   "cell_type": "code",
   "execution_count": 21,
   "metadata": {},
   "outputs": [],
   "source": [
    "X = dataset.iloc[:, 1:-1]\n",
    "y = dataset.iloc[:, -1]"
   ]
  },
  {
   "cell_type": "code",
   "execution_count": 22,
   "metadata": {},
   "outputs": [
    {
     "data": {
      "text/html": [
       "<div>\n",
       "<style scoped>\n",
       "    .dataframe tbody tr th:only-of-type {\n",
       "        vertical-align: middle;\n",
       "    }\n",
       "\n",
       "    .dataframe tbody tr th {\n",
       "        vertical-align: top;\n",
       "    }\n",
       "\n",
       "    .dataframe thead th {\n",
       "        text-align: right;\n",
       "    }\n",
       "</style>\n",
       "<table border=\"1\" class=\"dataframe\">\n",
       "  <thead>\n",
       "    <tr style=\"text-align: right;\">\n",
       "      <th></th>\n",
       "      <th>Positive Scores</th>\n",
       "      <th>Negative Scores</th>\n",
       "      <th>Neutral Scores</th>\n",
       "      <th>Compound Scores</th>\n",
       "      <th>Open</th>\n",
       "      <th>High</th>\n",
       "      <th>Low</th>\n",
       "      <th>Close</th>\n",
       "    </tr>\n",
       "  </thead>\n",
       "  <tbody>\n",
       "    <tr>\n",
       "      <th>0</th>\n",
       "      <td>0.110808</td>\n",
       "      <td>0.073270</td>\n",
       "      <td>0.815934</td>\n",
       "      <td>0.044268</td>\n",
       "      <td>16743.46</td>\n",
       "      <td>16773.05</td>\n",
       "      <td>16552.32</td>\n",
       "      <td>16611.74</td>\n",
       "    </tr>\n",
       "    <tr>\n",
       "      <th>1</th>\n",
       "      <td>0.148782</td>\n",
       "      <td>0.076613</td>\n",
       "      <td>0.774605</td>\n",
       "      <td>0.093870</td>\n",
       "      <td>16517.01</td>\n",
       "      <td>16747.58</td>\n",
       "      <td>16493.99</td>\n",
       "      <td>16735.73</td>\n",
       "    </tr>\n",
       "    <tr>\n",
       "      <th>2</th>\n",
       "      <td>0.130858</td>\n",
       "      <td>0.098172</td>\n",
       "      <td>0.770968</td>\n",
       "      <td>0.036928</td>\n",
       "      <td>16577.80</td>\n",
       "      <td>16586.87</td>\n",
       "      <td>16443.15</td>\n",
       "      <td>16470.88</td>\n",
       "    </tr>\n",
       "    <tr>\n",
       "      <th>3</th>\n",
       "      <td>0.128198</td>\n",
       "      <td>0.081780</td>\n",
       "      <td>0.790026</td>\n",
       "      <td>0.056796</td>\n",
       "      <td>16154.96</td>\n",
       "      <td>16155.96</td>\n",
       "      <td>15967.70</td>\n",
       "      <td>16051.03</td>\n",
       "    </tr>\n",
       "    <tr>\n",
       "      <th>4</th>\n",
       "      <td>0.128470</td>\n",
       "      <td>0.069632</td>\n",
       "      <td>0.801916</td>\n",
       "      <td>0.064638</td>\n",
       "      <td>15956.47</td>\n",
       "      <td>16147.67</td>\n",
       "      <td>15934.82</td>\n",
       "      <td>16014.37</td>\n",
       "    </tr>\n",
       "    <tr>\n",
       "      <th>...</th>\n",
       "      <td>...</td>\n",
       "      <td>...</td>\n",
       "      <td>...</td>\n",
       "      <td>...</td>\n",
       "      <td>...</td>\n",
       "      <td>...</td>\n",
       "      <td>...</td>\n",
       "      <td>...</td>\n",
       "    </tr>\n",
       "    <tr>\n",
       "      <th>484</th>\n",
       "      <td>0.140942</td>\n",
       "      <td>0.073648</td>\n",
       "      <td>0.785410</td>\n",
       "      <td>0.094385</td>\n",
       "      <td>24629.93</td>\n",
       "      <td>24678.32</td>\n",
       "      <td>24357.25</td>\n",
       "      <td>24570.88</td>\n",
       "    </tr>\n",
       "    <tr>\n",
       "      <th>485</th>\n",
       "      <td>0.167072</td>\n",
       "      <td>0.078026</td>\n",
       "      <td>0.754926</td>\n",
       "      <td>0.156232</td>\n",
       "      <td>24538.98</td>\n",
       "      <td>24538.98</td>\n",
       "      <td>22334.49</td>\n",
       "      <td>23063.21</td>\n",
       "    </tr>\n",
       "    <tr>\n",
       "      <th>486</th>\n",
       "      <td>0.162856</td>\n",
       "      <td>0.077198</td>\n",
       "      <td>0.759950</td>\n",
       "      <td>0.122053</td>\n",
       "      <td>23374.23</td>\n",
       "      <td>23938.24</td>\n",
       "      <td>22918.86</td>\n",
       "      <td>23893.21</td>\n",
       "    </tr>\n",
       "    <tr>\n",
       "      <th>487</th>\n",
       "      <td>0.157706</td>\n",
       "      <td>0.077356</td>\n",
       "      <td>0.764926</td>\n",
       "      <td>0.100804</td>\n",
       "      <td>24124.04</td>\n",
       "      <td>24233.50</td>\n",
       "      <td>23964.33</td>\n",
       "      <td>24143.80</td>\n",
       "    </tr>\n",
       "    <tr>\n",
       "      <th>488</th>\n",
       "      <td>0.155110</td>\n",
       "      <td>0.067050</td>\n",
       "      <td>0.777844</td>\n",
       "      <td>0.108048</td>\n",
       "      <td>24153.28</td>\n",
       "      <td>24624.63</td>\n",
       "      <td>24101.15</td>\n",
       "      <td>24603.47</td>\n",
       "    </tr>\n",
       "  </tbody>\n",
       "</table>\n",
       "<p>489 rows × 8 columns</p>\n",
       "</div>"
      ],
      "text/plain": [
       "     Positive Scores  Negative Scores  Neutral Scores  Compound Scores  \\\n",
       "0           0.110808         0.073270        0.815934         0.044268   \n",
       "1           0.148782         0.076613        0.774605         0.093870   \n",
       "2           0.130858         0.098172        0.770968         0.036928   \n",
       "3           0.128198         0.081780        0.790026         0.056796   \n",
       "4           0.128470         0.069632        0.801916         0.064638   \n",
       "..               ...              ...             ...              ...   \n",
       "484         0.140942         0.073648        0.785410         0.094385   \n",
       "485         0.167072         0.078026        0.754926         0.156232   \n",
       "486         0.162856         0.077198        0.759950         0.122053   \n",
       "487         0.157706         0.077356        0.764926         0.100804   \n",
       "488         0.155110         0.067050        0.777844         0.108048   \n",
       "\n",
       "         Open      High       Low     Close  \n",
       "0    16743.46  16773.05  16552.32  16611.74  \n",
       "1    16517.01  16747.58  16493.99  16735.73  \n",
       "2    16577.80  16586.87  16443.15  16470.88  \n",
       "3    16154.96  16155.96  15967.70  16051.03  \n",
       "4    15956.47  16147.67  15934.82  16014.37  \n",
       "..        ...       ...       ...       ...  \n",
       "484  24629.93  24678.32  24357.25  24570.88  \n",
       "485  24538.98  24538.98  22334.49  23063.21  \n",
       "486  23374.23  23938.24  22918.86  23893.21  \n",
       "487  24124.04  24233.50  23964.33  24143.80  \n",
       "488  24153.28  24624.63  24101.15  24603.47  \n",
       "\n",
       "[489 rows x 8 columns]"
      ]
     },
     "execution_count": 22,
     "metadata": {},
     "output_type": "execute_result"
    }
   ],
   "source": [
    "X"
   ]
  },
  {
   "cell_type": "code",
   "execution_count": 23,
   "metadata": {},
   "outputs": [
    {
     "data": {
      "text/plain": [
       "0      56.7042\n",
       "1      57.0767\n",
       "2      56.3738\n",
       "3      55.0474\n",
       "4      55.0272\n",
       "        ...   \n",
       "484    84.4289\n",
       "485    80.6477\n",
       "486    83.1941\n",
       "487    83.9987\n",
       "488    85.1902\n",
       "Name: Net Asset Value, Length: 489, dtype: float64"
      ]
     },
     "execution_count": 23,
     "metadata": {},
     "output_type": "execute_result"
    }
   ],
   "source": [
    "y"
   ]
  },
  {
   "cell_type": "code",
   "execution_count": 24,
   "metadata": {},
   "outputs": [],
   "source": [
    "from sklearn.model_selection import train_test_split\n",
    "X_train, X_test, y_train, y_test = train_test_split(X, y, test_size= 0.2, random_state= 42)"
   ]
  },
  {
   "cell_type": "code",
   "execution_count": 25,
   "metadata": {},
   "outputs": [],
   "source": [
    "from sklearn.preprocessing import StandardScaler\n",
    "sc_X = StandardScaler()\n",
    "sc_y = StandardScaler()\n",
    "X_train = sc_X.fit_transform(X_train)\n",
    "X_test = sc_X.transform(X_test)"
   ]
  },
  {
   "cell_type": "code",
   "execution_count": 26,
   "metadata": {},
   "outputs": [],
   "source": [
    "y_train = sc_y.fit_transform(y_train.values.reshape(-1, 1))\n",
    "y_test = sc_y.transform(y_test.values.reshape(-1, 1))"
   ]
  },
  {
   "cell_type": "markdown",
   "metadata": {},
   "source": [
    "### Random Forest"
   ]
  },
  {
   "cell_type": "code",
   "execution_count": 27,
   "metadata": {},
   "outputs": [
    {
     "name": "stderr",
     "output_type": "stream",
     "text": [
      "c:\\Users\\aprat\\AppData\\Local\\Programs\\Python\\Python311\\Lib\\site-packages\\sklearn\\base.py:1152: DataConversionWarning: A column-vector y was passed when a 1d array was expected. Please change the shape of y to (n_samples,), for example using ravel().\n",
      "  return fit_method(estimator, *args, **kwargs)\n"
     ]
    },
    {
     "data": {
      "text/html": [
       "<style>#sk-container-id-1 {color: black;}#sk-container-id-1 pre{padding: 0;}#sk-container-id-1 div.sk-toggleable {background-color: white;}#sk-container-id-1 label.sk-toggleable__label {cursor: pointer;display: block;width: 100%;margin-bottom: 0;padding: 0.3em;box-sizing: border-box;text-align: center;}#sk-container-id-1 label.sk-toggleable__label-arrow:before {content: \"▸\";float: left;margin-right: 0.25em;color: #696969;}#sk-container-id-1 label.sk-toggleable__label-arrow:hover:before {color: black;}#sk-container-id-1 div.sk-estimator:hover label.sk-toggleable__label-arrow:before {color: black;}#sk-container-id-1 div.sk-toggleable__content {max-height: 0;max-width: 0;overflow: hidden;text-align: left;background-color: #f0f8ff;}#sk-container-id-1 div.sk-toggleable__content pre {margin: 0.2em;color: black;border-radius: 0.25em;background-color: #f0f8ff;}#sk-container-id-1 input.sk-toggleable__control:checked~div.sk-toggleable__content {max-height: 200px;max-width: 100%;overflow: auto;}#sk-container-id-1 input.sk-toggleable__control:checked~label.sk-toggleable__label-arrow:before {content: \"▾\";}#sk-container-id-1 div.sk-estimator input.sk-toggleable__control:checked~label.sk-toggleable__label {background-color: #d4ebff;}#sk-container-id-1 div.sk-label input.sk-toggleable__control:checked~label.sk-toggleable__label {background-color: #d4ebff;}#sk-container-id-1 input.sk-hidden--visually {border: 0;clip: rect(1px 1px 1px 1px);clip: rect(1px, 1px, 1px, 1px);height: 1px;margin: -1px;overflow: hidden;padding: 0;position: absolute;width: 1px;}#sk-container-id-1 div.sk-estimator {font-family: monospace;background-color: #f0f8ff;border: 1px dotted black;border-radius: 0.25em;box-sizing: border-box;margin-bottom: 0.5em;}#sk-container-id-1 div.sk-estimator:hover {background-color: #d4ebff;}#sk-container-id-1 div.sk-parallel-item::after {content: \"\";width: 100%;border-bottom: 1px solid gray;flex-grow: 1;}#sk-container-id-1 div.sk-label:hover label.sk-toggleable__label {background-color: #d4ebff;}#sk-container-id-1 div.sk-serial::before {content: \"\";position: absolute;border-left: 1px solid gray;box-sizing: border-box;top: 0;bottom: 0;left: 50%;z-index: 0;}#sk-container-id-1 div.sk-serial {display: flex;flex-direction: column;align-items: center;background-color: white;padding-right: 0.2em;padding-left: 0.2em;position: relative;}#sk-container-id-1 div.sk-item {position: relative;z-index: 1;}#sk-container-id-1 div.sk-parallel {display: flex;align-items: stretch;justify-content: center;background-color: white;position: relative;}#sk-container-id-1 div.sk-item::before, #sk-container-id-1 div.sk-parallel-item::before {content: \"\";position: absolute;border-left: 1px solid gray;box-sizing: border-box;top: 0;bottom: 0;left: 50%;z-index: -1;}#sk-container-id-1 div.sk-parallel-item {display: flex;flex-direction: column;z-index: 1;position: relative;background-color: white;}#sk-container-id-1 div.sk-parallel-item:first-child::after {align-self: flex-end;width: 50%;}#sk-container-id-1 div.sk-parallel-item:last-child::after {align-self: flex-start;width: 50%;}#sk-container-id-1 div.sk-parallel-item:only-child::after {width: 0;}#sk-container-id-1 div.sk-dashed-wrapped {border: 1px dashed gray;margin: 0 0.4em 0.5em 0.4em;box-sizing: border-box;padding-bottom: 0.4em;background-color: white;}#sk-container-id-1 div.sk-label label {font-family: monospace;font-weight: bold;display: inline-block;line-height: 1.2em;}#sk-container-id-1 div.sk-label-container {text-align: center;}#sk-container-id-1 div.sk-container {/* jupyter's `normalize.less` sets `[hidden] { display: none; }` but bootstrap.min.css set `[hidden] { display: none !important; }` so we also need the `!important` here to be able to override the default hidden behavior on the sphinx rendered scikit-learn.org. See: https://github.com/scikit-learn/scikit-learn/issues/21755 */display: inline-block !important;position: relative;}#sk-container-id-1 div.sk-text-repr-fallback {display: none;}</style><div id=\"sk-container-id-1\" class=\"sk-top-container\"><div class=\"sk-text-repr-fallback\"><pre>RandomForestRegressor()</pre><b>In a Jupyter environment, please rerun this cell to show the HTML representation or trust the notebook. <br />On GitHub, the HTML representation is unable to render, please try loading this page with nbviewer.org.</b></div><div class=\"sk-container\" hidden><div class=\"sk-item\"><div class=\"sk-estimator sk-toggleable\"><input class=\"sk-toggleable__control sk-hidden--visually\" id=\"sk-estimator-id-1\" type=\"checkbox\" checked><label for=\"sk-estimator-id-1\" class=\"sk-toggleable__label sk-toggleable__label-arrow\">RandomForestRegressor</label><div class=\"sk-toggleable__content\"><pre>RandomForestRegressor()</pre></div></div></div></div></div>"
      ],
      "text/plain": [
       "RandomForestRegressor()"
      ]
     },
     "execution_count": 27,
     "metadata": {},
     "output_type": "execute_result"
    }
   ],
   "source": [
    "from sklearn.ensemble import RandomForestRegressor\n",
    "regressor_rf = RandomForestRegressor(n_estimators=100)\n",
    "regressor_rf.fit(X_train, y_train)"
   ]
  },
  {
   "cell_type": "code",
   "execution_count": 28,
   "metadata": {},
   "outputs": [],
   "source": [
    "y_pred_rf = regressor_rf.predict(X_test)"
   ]
  },
  {
   "cell_type": "code",
   "execution_count": 29,
   "metadata": {},
   "outputs": [
    {
     "data": {
      "text/plain": [
       "0.0849505094500646"
      ]
     },
     "execution_count": 29,
     "metadata": {},
     "output_type": "execute_result"
    }
   ],
   "source": [
    "from sklearn.metrics import mean_squared_error\n",
    "np.sqrt(mean_squared_error(y_test, y_pred_rf))"
   ]
  },
  {
   "cell_type": "code",
   "execution_count": 30,
   "metadata": {},
   "outputs": [
    {
     "data": {
      "image/png": "[encoded data removed]",
      "text/plain": [
       "<Figure size 640x480 with 1 Axes>"
      ]
     },
     "metadata": {},
     "output_type": "display_data"
    }
   ],
   "source": [
    "plt.scatter(y_pred_rf, y_test, color = 'green')\n",
    "plt.xlabel(\"NAV_predicted\")\n",
    "plt.ylabel(\"NAV_true\")\n",
    "plt.plot([-2.5, 2.5], [-2.5, 2.5], '--k')\n",
    "plt.title(\"Random Forest Performance\")\n",
    "plt.show()"
   ]
  },
  {
   "cell_type": "markdown",
   "metadata": {},
   "source": [
    "### ANN"
   ]
  },
  {
   "cell_type": "code",
   "execution_count": 31,
   "metadata": {},
   "outputs": [],
   "source": [
    "X_train_ann, X_test_ann, y_train_ann, y_test_ann = train_test_split(X, y, test_size= 0.2, random_state= 42)\n",
    "X_train_ann, X_val_ann, y_train_ann, y_val_ann = train_test_split(X_train_ann, y_train_ann, test_size=0.2, random_state= 42)\n",
    "sc_X_ann = StandardScaler()\n",
    "sc_y_ann = StandardScaler()\n",
    "X_train_ann = sc_X.fit_transform(X_train_ann)\n",
    "X_test_ann = sc_X.transform(X_test_ann)\n",
    "X_val_ann = sc_X.transform(X_val_ann)\n",
    "y_train_ann = sc_y.fit_transform(y_train_ann.values.reshape(-1, 1))\n",
    "y_test_ann = sc_y.transform(y_test_ann.values.reshape(-1, 1))\n",
    "y_val_ann = sc_y.transform(y_val_ann.values.reshape(-1, 1))"
   ]
  },
  {
   "cell_type": "code",
   "execution_count": 32,
   "metadata": {},
   "outputs": [
    {
     "name": "stdout",
     "output_type": "stream",
     "text": [
      "WARNING:tensorflow:From c:\\Users\\aprat\\AppData\\Local\\Programs\\Python\\Python311\\Lib\\site-packages\\keras\\src\\backend.py:873: The name tf.get_default_graph is deprecated. Please use tf.compat.v1.get_default_graph instead.\n",
      "\n"
     ]
    }
   ],
   "source": [
    "ann = tf.keras.models.Sequential()\n",
    "ann.add(tf.keras.layers.Dense(25, input_dim = 8, activation = 'relu'))\n",
    "#ann.add(tf.keras.layers.Dense(units = 45, activation = 'relu'))\n",
    "#ann.add(tf.keras.layers.BatchNormalization())\n",
    "#ann.add(tf.keras.layers.Dense(units = 32, activation = 'relu'))\n",
    "#ann.add(tf.keras.layers.BatchNormalization())\n",
    "#ann.add(tf.keras.layers.Dense(units = 16, activation = 'relu'))\n",
    "#ann.add(tf.keras.layers.Dense(units = 8, activation = 'relu'))\n",
    "ann.add(tf.keras.layers.Dense(units = 1, activation = 'relu'))"
   ]
  },
  {
   "cell_type": "code",
   "execution_count": 33,
   "metadata": {},
   "outputs": [
    {
     "name": "stdout",
     "output_type": "stream",
     "text": [
      "WARNING:tensorflow:From c:\\Users\\aprat\\AppData\\Local\\Programs\\Python\\Python311\\Lib\\site-packages\\keras\\src\\optimizers\\__init__.py:309: The name tf.train.Optimizer is deprecated. Please use tf.compat.v1.train.Optimizer instead.\n",
      "\n"
     ]
    }
   ],
   "source": [
    "ann.compile(optimizer='adam', loss='mean_squared_error')"
   ]
  },
  {
   "cell_type": "code",
   "execution_count": 34,
   "metadata": {},
   "outputs": [
    {
     "name": "stdout",
     "output_type": "stream",
     "text": [
      "Epoch 1/100\n",
      "WARNING:tensorflow:From c:\\Users\\aprat\\AppData\\Local\\Programs\\Python\\Python311\\Lib\\site-packages\\keras\\src\\utils\\tf_utils.py:492: The name tf.ragged.RaggedTensorValue is deprecated. Please use tf.compat.v1.ragged.RaggedTensorValue instead.\n",
      "\n",
      "10/10 [==============================] - 1s 24ms/step - loss: 1.3930 - val_loss: 1.4020\n",
      "Epoch 2/100\n",
      "10/10 [==============================] - 0s 8ms/step - loss: 1.1217 - val_loss: 1.1013\n",
      "Epoch 3/100\n",
      "10/10 [==============================] - 0s 7ms/step - loss: 0.8803 - val_loss: 0.8492\n",
      "Epoch 4/100\n",
      "10/10 [==============================] - 0s 6ms/step - loss: 0.6791 - val_loss: 0.6715\n",
      "Epoch 5/100\n",
      "10/10 [==============================] - 0s 6ms/step - loss: 0.5664 - val_loss: 0.5901\n",
      "Epoch 6/100\n",
      "10/10 [==============================] - 0s 6ms/step - loss: 0.5082 - val_loss: 0.5550\n",
      "Epoch 7/100\n",
      "10/10 [==============================] - 0s 6ms/step - loss: 0.4819 - val_loss: 0.5394\n",
      "Epoch 8/100\n",
      "10/10 [==============================] - 0s 6ms/step - loss: 0.4690 - val_loss: 0.5323\n",
      "Epoch 9/100\n",
      "10/10 [==============================] - 0s 6ms/step - loss: 0.4621 - val_loss: 0.5286\n",
      "Epoch 10/100\n",
      "10/10 [==============================] - 0s 6ms/step - loss: 0.4587 - val_loss: 0.5260\n",
      "Epoch 11/100\n",
      "10/10 [==============================] - 0s 5ms/step - loss: 0.4563 - val_loss: 0.5245\n",
      "Epoch 12/100\n",
      "10/10 [==============================] - 0s 5ms/step - loss: 0.4547 - val_loss: 0.5236\n",
      "Epoch 13/100\n",
      "10/10 [==============================] - 0s 6ms/step - loss: 0.4538 - val_loss: 0.5229\n",
      "Epoch 14/100\n",
      "10/10 [==============================] - 0s 6ms/step - loss: 0.4530 - val_loss: 0.5224\n",
      "Epoch 15/100\n",
      "10/10 [==============================] - 0s 7ms/step - loss: 0.4524 - val_loss: 0.5219\n",
      "Epoch 16/100\n",
      "10/10 [==============================] - 0s 6ms/step - loss: 0.4519 - val_loss: 0.5216\n",
      "Epoch 17/100\n",
      "10/10 [==============================] - 0s 5ms/step - loss: 0.4514 - val_loss: 0.5212\n",
      "Epoch 18/100\n",
      "10/10 [==============================] - 0s 6ms/step - loss: 0.4510 - val_loss: 0.5210\n",
      "Epoch 19/100\n",
      "10/10 [==============================] - 0s 6ms/step - loss: 0.4506 - val_loss: 0.5208\n",
      "Epoch 20/100\n",
      "10/10 [==============================] - 0s 6ms/step - loss: 0.4502 - val_loss: 0.5205\n",
      "Epoch 21/100\n",
      "10/10 [==============================] - 0s 11ms/step - loss: 0.4499 - val_loss: 0.5201\n",
      "Epoch 22/100\n",
      "10/10 [==============================] - 0s 11ms/step - loss: 0.4496 - val_loss: 0.5198\n",
      "Epoch 23/100\n",
      "10/10 [==============================] - 0s 10ms/step - loss: 0.4493 - val_loss: 0.5194\n",
      "Epoch 24/100\n",
      "10/10 [==============================] - 0s 9ms/step - loss: 0.4490 - val_loss: 0.5191\n",
      "Epoch 25/100\n",
      "10/10 [==============================] - 0s 7ms/step - loss: 0.4487 - val_loss: 0.5189\n",
      "Epoch 26/100\n",
      "10/10 [==============================] - 0s 7ms/step - loss: 0.4484 - val_loss: 0.5186\n",
      "Epoch 27/100\n",
      "10/10 [==============================] - 0s 7ms/step - loss: 0.4482 - val_loss: 0.5183\n",
      "Epoch 28/100\n",
      "10/10 [==============================] - 0s 8ms/step - loss: 0.4479 - val_loss: 0.5181\n",
      "Epoch 29/100\n",
      "10/10 [==============================] - 0s 6ms/step - loss: 0.4477 - val_loss: 0.5179\n",
      "Epoch 30/100\n",
      "10/10 [==============================] - 0s 6ms/step - loss: 0.4474 - val_loss: 0.5178\n",
      "Epoch 31/100\n",
      "10/10 [==============================] - 0s 6ms/step - loss: 0.4473 - val_loss: 0.5177\n",
      "Epoch 32/100\n",
      "10/10 [==============================] - 0s 7ms/step - loss: 0.4471 - val_loss: 0.5176\n",
      "Epoch 33/100\n",
      "10/10 [==============================] - 0s 6ms/step - loss: 0.4470 - val_loss: 0.5175\n",
      "Epoch 34/100\n",
      "10/10 [==============================] - 0s 6ms/step - loss: 0.4469 - val_loss: 0.5175\n",
      "Epoch 35/100\n",
      "10/10 [==============================] - 0s 5ms/step - loss: 0.4467 - val_loss: 0.5174\n",
      "Epoch 36/100\n",
      "10/10 [==============================] - 0s 5ms/step - loss: 0.4466 - val_loss: 0.5173\n",
      "Epoch 37/100\n",
      "10/10 [==============================] - 0s 25ms/step - loss: 0.4465 - val_loss: 0.5173\n",
      "Epoch 38/100\n",
      "10/10 [==============================] - 0s 9ms/step - loss: 0.4464 - val_loss: 0.5172\n",
      "Epoch 39/100\n",
      "10/10 [==============================] - 0s 8ms/step - loss: 0.4463 - val_loss: 0.5172\n",
      "Epoch 40/100\n",
      "10/10 [==============================] - 0s 6ms/step - loss: 0.4462 - val_loss: 0.5172\n",
      "Epoch 41/100\n",
      "10/10 [==============================] - 0s 5ms/step - loss: 0.4461 - val_loss: 0.5171\n",
      "Epoch 42/100\n",
      "10/10 [==============================] - 0s 5ms/step - loss: 0.4460 - val_loss: 0.5171\n",
      "Epoch 43/100\n",
      "10/10 [==============================] - 0s 6ms/step - loss: 0.4459 - val_loss: 0.5170\n",
      "Epoch 44/100\n",
      "10/10 [==============================] - 0s 5ms/step - loss: 0.4459 - val_loss: 0.5170\n",
      "Epoch 45/100\n",
      "10/10 [==============================] - 0s 5ms/step - loss: 0.4458 - val_loss: 0.5170\n",
      "Epoch 46/100\n",
      "10/10 [==============================] - 0s 6ms/step - loss: 0.4457 - val_loss: 0.5170\n",
      "Epoch 47/100\n",
      "10/10 [==============================] - 0s 6ms/step - loss: 0.4457 - val_loss: 0.5169\n",
      "Epoch 48/100\n",
      "10/10 [==============================] - 0s 6ms/step - loss: 0.4457 - val_loss: 0.5169\n",
      "Epoch 49/100\n",
      "10/10 [==============================] - 0s 5ms/step - loss: 0.4455 - val_loss: 0.5169\n",
      "Epoch 50/100\n",
      "10/10 [==============================] - 0s 6ms/step - loss: 0.4456 - val_loss: 0.5169\n",
      "Epoch 51/100\n",
      "10/10 [==============================] - 0s 6ms/step - loss: 0.4455 - val_loss: 0.5169\n",
      "Epoch 52/100\n",
      "10/10 [==============================] - 0s 6ms/step - loss: 0.4455 - val_loss: 0.5169\n",
      "Epoch 53/100\n",
      "10/10 [==============================] - 0s 6ms/step - loss: 0.4455 - val_loss: 0.5169\n",
      "Epoch 54/100\n",
      "10/10 [==============================] - 0s 5ms/step - loss: 0.4454 - val_loss: 0.5168\n",
      "Epoch 55/100\n",
      "10/10 [==============================] - 0s 7ms/step - loss: 0.4453 - val_loss: 0.5168\n",
      "Epoch 56/100\n",
      "10/10 [==============================] - 0s 7ms/step - loss: 0.4452 - val_loss: 0.5168\n",
      "Epoch 57/100\n",
      "10/10 [==============================] - 0s 6ms/step - loss: 0.4452 - val_loss: 0.5167\n",
      "Epoch 58/100\n",
      "10/10 [==============================] - 0s 7ms/step - loss: 0.4451 - val_loss: 0.5168\n",
      "Epoch 59/100\n",
      "10/10 [==============================] - 0s 6ms/step - loss: 0.4451 - val_loss: 0.5167\n",
      "Epoch 60/100\n",
      "10/10 [==============================] - 0s 5ms/step - loss: 0.4450 - val_loss: 0.5167\n",
      "Epoch 61/100\n",
      "10/10 [==============================] - 0s 6ms/step - loss: 0.4451 - val_loss: 0.5167\n",
      "Epoch 62/100\n",
      "10/10 [==============================] - 0s 6ms/step - loss: 0.4450 - val_loss: 0.5166\n",
      "Epoch 63/100\n",
      "10/10 [==============================] - 0s 6ms/step - loss: 0.4450 - val_loss: 0.5166\n",
      "Epoch 64/100\n",
      "10/10 [==============================] - 0s 6ms/step - loss: 0.4450 - val_loss: 0.5166\n",
      "Epoch 65/100\n",
      "10/10 [==============================] - 0s 6ms/step - loss: 0.4450 - val_loss: 0.5165\n",
      "Epoch 66/100\n",
      "10/10 [==============================] - 0s 6ms/step - loss: 0.4449 - val_loss: 0.5165\n",
      "Epoch 67/100\n",
      "10/10 [==============================] - 0s 6ms/step - loss: 0.4449 - val_loss: 0.5165\n",
      "Epoch 68/100\n",
      "10/10 [==============================] - 0s 6ms/step - loss: 0.4448 - val_loss: 0.5165\n",
      "Epoch 69/100\n",
      "10/10 [==============================] - 0s 6ms/step - loss: 0.4448 - val_loss: 0.5165\n",
      "Epoch 70/100\n",
      "10/10 [==============================] - 0s 5ms/step - loss: 0.4449 - val_loss: 0.5165\n",
      "Epoch 71/100\n",
      "10/10 [==============================] - 0s 5ms/step - loss: 0.4448 - val_loss: 0.5164\n",
      "Epoch 72/100\n",
      "10/10 [==============================] - 0s 6ms/step - loss: 0.4447 - val_loss: 0.5164\n",
      "Epoch 73/100\n",
      "10/10 [==============================] - 0s 5ms/step - loss: 0.4447 - val_loss: 0.5164\n",
      "Epoch 74/100\n",
      "10/10 [==============================] - 0s 6ms/step - loss: 0.4447 - val_loss: 0.5164\n",
      "Epoch 75/100\n",
      "10/10 [==============================] - 0s 7ms/step - loss: 0.4447 - val_loss: 0.5164\n",
      "Epoch 76/100\n",
      "10/10 [==============================] - 0s 6ms/step - loss: 0.4447 - val_loss: 0.5164\n",
      "Epoch 77/100\n",
      "10/10 [==============================] - 0s 5ms/step - loss: 0.4446 - val_loss: 0.5164\n",
      "Epoch 78/100\n",
      "10/10 [==============================] - 0s 6ms/step - loss: 0.4447 - val_loss: 0.5164\n",
      "Epoch 79/100\n",
      "10/10 [==============================] - 0s 6ms/step - loss: 0.4446 - val_loss: 0.5163\n",
      "Epoch 80/100\n",
      "10/10 [==============================] - 0s 6ms/step - loss: 0.4446 - val_loss: 0.5163\n",
      "Epoch 81/100\n",
      "10/10 [==============================] - 0s 6ms/step - loss: 0.4446 - val_loss: 0.5163\n",
      "Epoch 82/100\n",
      "10/10 [==============================] - 0s 6ms/step - loss: 0.4446 - val_loss: 0.5163\n",
      "Epoch 83/100\n",
      "10/10 [==============================] - 0s 6ms/step - loss: 0.4446 - val_loss: 0.5163\n",
      "Epoch 84/100\n",
      "10/10 [==============================] - 0s 5ms/step - loss: 0.4446 - val_loss: 0.5163\n",
      "Epoch 85/100\n",
      "10/10 [==============================] - 0s 5ms/step - loss: 0.4445 - val_loss: 0.5163\n",
      "Epoch 86/100\n",
      "10/10 [==============================] - 0s 6ms/step - loss: 0.4446 - val_loss: 0.5163\n",
      "Epoch 87/100\n",
      "10/10 [==============================] - 0s 6ms/step - loss: 0.4446 - val_loss: 0.5163\n",
      "Epoch 88/100\n",
      "10/10 [==============================] - 0s 5ms/step - loss: 0.4446 - val_loss: 0.5163\n",
      "Epoch 89/100\n",
      "10/10 [==============================] - 0s 5ms/step - loss: 0.4445 - val_loss: 0.5163\n",
      "Epoch 90/100\n",
      "10/10 [==============================] - 0s 5ms/step - loss: 0.4445 - val_loss: 0.5163\n",
      "Epoch 91/100\n",
      "10/10 [==============================] - 0s 5ms/step - loss: 0.4445 - val_loss: 0.5162\n",
      "Epoch 92/100\n",
      "10/10 [==============================] - 0s 5ms/step - loss: 0.4446 - val_loss: 0.5163\n",
      "Epoch 93/100\n",
      "10/10 [==============================] - 0s 5ms/step - loss: 0.4444 - val_loss: 0.5162\n",
      "Epoch 94/100\n",
      "10/10 [==============================] - 0s 5ms/step - loss: 0.4445 - val_loss: 0.5162\n",
      "Epoch 95/100\n",
      "10/10 [==============================] - 0s 6ms/step - loss: 0.4444 - val_loss: 0.5162\n",
      "Epoch 96/100\n",
      "10/10 [==============================] - 0s 6ms/step - loss: 0.4444 - val_loss: 0.5162\n",
      "Epoch 97/100\n",
      "10/10 [==============================] - 0s 6ms/step - loss: 0.4444 - val_loss: 0.5162\n",
      "Epoch 98/100\n",
      "10/10 [==============================] - 0s 5ms/step - loss: 0.4444 - val_loss: 0.5162\n",
      "Epoch 99/100\n",
      "10/10 [==============================] - 0s 6ms/step - loss: 0.4444 - val_loss: 0.5161\n",
      "Epoch 100/100\n",
      "10/10 [==============================] - 0s 6ms/step - loss: 0.4444 - val_loss: 0.5162\n"
     ]
    },
    {
     "data": {
      "text/plain": [
       "<keras.src.callbacks.History at 0x2006ace4790>"
      ]
     },
     "execution_count": 34,
     "metadata": {},
     "output_type": "execute_result"
    }
   ],
   "source": [
    "ann.fit(X_train_ann, y_train_ann, validation_data=(X_val_ann, y_val_ann), epochs=100, verbose=1)"
   ]
  },
  {
   "cell_type": "markdown",
   "metadata": {},
   "source": [
    "Regardless of our efforts to optimize the model, the val_loss stagnates around 0.51-0.52. Let us run the model on the test data just to be sure."
   ]
  },
  {
   "cell_type": "code",
   "execution_count": 35,
   "metadata": {},
   "outputs": [
    {
     "name": "stdout",
     "output_type": "stream",
     "text": [
      "4/4 [==============================] - 0s 2ms/step\n"
     ]
    }
   ],
   "source": [
    "y_pred_ann = ann.predict(X_test_ann)"
   ]
  },
  {
   "cell_type": "code",
   "execution_count": 36,
   "metadata": {},
   "outputs": [
    {
     "data": {
      "text/plain": [
       "0.7197328945813454"
      ]
     },
     "execution_count": 36,
     "metadata": {},
     "output_type": "execute_result"
    }
   ],
   "source": [
    "np.sqrt(mean_squared_error(y_test_ann, y_pred_ann))"
   ]
  },
  {
   "cell_type": "code",
   "execution_count": 37,
   "metadata": {},
   "outputs": [
    {
     "data": {
      "image/png": "[encoded data removed]",
      "text/plain": [
       "<Figure size 640x480 with 1 Axes>"
      ]
     },
     "metadata": {},
     "output_type": "display_data"
    }
   ],
   "source": [
    "plt.scatter(y_pred_ann, y_test_ann, color = 'green')\n",
    "plt.xlabel(\"NAV_predicted\")\n",
    "plt.ylabel(\"NAV_true\")\n",
    "plt.plot([-2.5, 2.5], [-2.5, 2.5], '--k')\n",
    "plt.title(\"ANN Performance\")\n",
    "plt.show()"
   ]
  },
  {
   "cell_type": "markdown",
   "metadata": {},
   "source": [
    "Clearly, ANN isn't suited while considering the size of our data. Several more datapoints might help with the mean squared error, however, we already have a much better performing model with the Random Forest regression model."
   ]
  },
  {
   "cell_type": "markdown",
   "metadata": {},
   "source": [
    "### SVM"
   ]
  },
  {
   "cell_type": "code",
   "execution_count": 38,
   "metadata": {},
   "outputs": [
    {
     "name": "stderr",
     "output_type": "stream",
     "text": [
      "c:\\Users\\aprat\\AppData\\Local\\Programs\\Python\\Python311\\Lib\\site-packages\\sklearn\\utils\\validation.py:1183: DataConversionWarning: A column-vector y was passed when a 1d array was expected. Please change the shape of y to (n_samples, ), for example using ravel().\n",
      "  y = column_or_1d(y, warn=True)\n"
     ]
    },
    {
     "data": {
      "text/html": [
       "<style>#sk-container-id-2 {color: black;}#sk-container-id-2 pre{padding: 0;}#sk-container-id-2 div.sk-toggleable {background-color: white;}#sk-container-id-2 label.sk-toggleable__label {cursor: pointer;display: block;width: 100%;margin-bottom: 0;padding: 0.3em;box-sizing: border-box;text-align: center;}#sk-container-id-2 label.sk-toggleable__label-arrow:before {content: \"▸\";float: left;margin-right: 0.25em;color: #696969;}#sk-container-id-2 label.sk-toggleable__label-arrow:hover:before {color: black;}#sk-container-id-2 div.sk-estimator:hover label.sk-toggleable__label-arrow:before {color: black;}#sk-container-id-2 div.sk-toggleable__content {max-height: 0;max-width: 0;overflow: hidden;text-align: left;background-color: #f0f8ff;}#sk-container-id-2 div.sk-toggleable__content pre {margin: 0.2em;color: black;border-radius: 0.25em;background-color: #f0f8ff;}#sk-container-id-2 input.sk-toggleable__control:checked~div.sk-toggleable__content {max-height: 200px;max-width: 100%;overflow: auto;}#sk-container-id-2 input.sk-toggleable__control:checked~label.sk-toggleable__label-arrow:before {content: \"▾\";}#sk-container-id-2 div.sk-estimator input.sk-toggleable__control:checked~label.sk-toggleable__label {background-color: #d4ebff;}#sk-container-id-2 div.sk-label input.sk-toggleable__control:checked~label.sk-toggleable__label {background-color: #d4ebff;}#sk-container-id-2 input.sk-hidden--visually {border: 0;clip: rect(1px 1px 1px 1px);clip: rect(1px, 1px, 1px, 1px);height: 1px;margin: -1px;overflow: hidden;padding: 0;position: absolute;width: 1px;}#sk-container-id-2 div.sk-estimator {font-family: monospace;background-color: #f0f8ff;border: 1px dotted black;border-radius: 0.25em;box-sizing: border-box;margin-bottom: 0.5em;}#sk-container-id-2 div.sk-estimator:hover {background-color: #d4ebff;}#sk-container-id-2 div.sk-parallel-item::after {content: \"\";width: 100%;border-bottom: 1px solid gray;flex-grow: 1;}#sk-container-id-2 div.sk-label:hover label.sk-toggleable__label {background-color: #d4ebff;}#sk-container-id-2 div.sk-serial::before {content: \"\";position: absolute;border-left: 1px solid gray;box-sizing: border-box;top: 0;bottom: 0;left: 50%;z-index: 0;}#sk-container-id-2 div.sk-serial {display: flex;flex-direction: column;align-items: center;background-color: white;padding-right: 0.2em;padding-left: 0.2em;position: relative;}#sk-container-id-2 div.sk-item {position: relative;z-index: 1;}#sk-container-id-2 div.sk-parallel {display: flex;align-items: stretch;justify-content: center;background-color: white;position: relative;}#sk-container-id-2 div.sk-item::before, #sk-container-id-2 div.sk-parallel-item::before {content: \"\";position: absolute;border-left: 1px solid gray;box-sizing: border-box;top: 0;bottom: 0;left: 50%;z-index: -1;}#sk-container-id-2 div.sk-parallel-item {display: flex;flex-direction: column;z-index: 1;position: relative;background-color: white;}#sk-container-id-2 div.sk-parallel-item:first-child::after {align-self: flex-end;width: 50%;}#sk-container-id-2 div.sk-parallel-item:last-child::after {align-self: flex-start;width: 50%;}#sk-container-id-2 div.sk-parallel-item:only-child::after {width: 0;}#sk-container-id-2 div.sk-dashed-wrapped {border: 1px dashed gray;margin: 0 0.4em 0.5em 0.4em;box-sizing: border-box;padding-bottom: 0.4em;background-color: white;}#sk-container-id-2 div.sk-label label {font-family: monospace;font-weight: bold;display: inline-block;line-height: 1.2em;}#sk-container-id-2 div.sk-label-container {text-align: center;}#sk-container-id-2 div.sk-container {/* jupyter's `normalize.less` sets `[hidden] { display: none; }` but bootstrap.min.css set `[hidden] { display: none !important; }` so we also need the `!important` here to be able to override the default hidden behavior on the sphinx rendered scikit-learn.org. See: https://github.com/scikit-learn/scikit-learn/issues/21755 */display: inline-block !important;position: relative;}#sk-container-id-2 div.sk-text-repr-fallback {display: none;}</style><div id=\"sk-container-id-2\" class=\"sk-top-container\"><div class=\"sk-text-repr-fallback\"><pre>SVR()</pre><b>In a Jupyter environment, please rerun this cell to show the HTML representation or trust the notebook. <br />On GitHub, the HTML representation is unable to render, please try loading this page with nbviewer.org.</b></div><div class=\"sk-container\" hidden><div class=\"sk-item\"><div class=\"sk-estimator sk-toggleable\"><input class=\"sk-toggleable__control sk-hidden--visually\" id=\"sk-estimator-id-2\" type=\"checkbox\" checked><label for=\"sk-estimator-id-2\" class=\"sk-toggleable__label sk-toggleable__label-arrow\">SVR</label><div class=\"sk-toggleable__content\"><pre>SVR()</pre></div></div></div></div></div>"
      ],
      "text/plain": [
       "SVR()"
      ]
     },
     "execution_count": 38,
     "metadata": {},
     "output_type": "execute_result"
    }
   ],
   "source": [
    "from sklearn.svm import SVR\n",
    "regressor_svr = SVR(kernel='rbf')\n",
    "regressor_svr.fit(X_train, y_train)"
   ]
  },
  {
   "cell_type": "code",
   "execution_count": 39,
   "metadata": {},
   "outputs": [],
   "source": [
    "y_pred_svr = regressor_svr.predict(X_test)"
   ]
  },
  {
   "cell_type": "code",
   "execution_count": 40,
   "metadata": {},
   "outputs": [
    {
     "data": {
      "text/plain": [
       "0.11978383784729109"
      ]
     },
     "execution_count": 40,
     "metadata": {},
     "output_type": "execute_result"
    }
   ],
   "source": [
    "np.sqrt(mean_squared_error(y_test, y_pred_svr))"
   ]
  },
  {
   "cell_type": "code",
   "execution_count": 41,
   "metadata": {},
   "outputs": [
    {
     "data": {
      "image/png": "[encoded data removed]",
      "text/plain": [
       "<Figure size 640x480 with 1 Axes>"
      ]
     },
     "metadata": {},
     "output_type": "display_data"
    }
   ],
   "source": [
    "plt.scatter(y_pred_svr, y_test, color = 'green')\n",
    "plt.xlabel(\"NAV_predicted\")\n",
    "plt.ylabel(\"NAV_true\")\n",
    "plt.plot([-2.5, 2.5], [-2.5, 2.5], '--k')\n",
    "plt.title(\"SVM Performance\")\n",
    "plt.show()"
   ]
  },
  {
   "cell_type": "markdown",
   "metadata": {},
   "source": [
    "### Linear Regression"
   ]
  },
  {
   "cell_type": "code",
   "execution_count": 42,
   "metadata": {},
   "outputs": [
    {
     "data": {
      "text/html": [
       "<style>#sk-container-id-3 {color: black;}#sk-container-id-3 pre{padding: 0;}#sk-container-id-3 div.sk-toggleable {background-color: white;}#sk-container-id-3 label.sk-toggleable__label {cursor: pointer;display: block;width: 100%;margin-bottom: 0;padding: 0.3em;box-sizing: border-box;text-align: center;}#sk-container-id-3 label.sk-toggleable__label-arrow:before {content: \"▸\";float: left;margin-right: 0.25em;color: #696969;}#sk-container-id-3 label.sk-toggleable__label-arrow:hover:before {color: black;}#sk-container-id-3 div.sk-estimator:hover label.sk-toggleable__label-arrow:before {color: black;}#sk-container-id-3 div.sk-toggleable__content {max-height: 0;max-width: 0;overflow: hidden;text-align: left;background-color: #f0f8ff;}#sk-container-id-3 div.sk-toggleable__content pre {margin: 0.2em;color: black;border-radius: 0.25em;background-color: #f0f8ff;}#sk-container-id-3 input.sk-toggleable__control:checked~div.sk-toggleable__content {max-height: 200px;max-width: 100%;overflow: auto;}#sk-container-id-3 input.sk-toggleable__control:checked~label.sk-toggleable__label-arrow:before {content: \"▾\";}#sk-container-id-3 div.sk-estimator input.sk-toggleable__control:checked~label.sk-toggleable__label {background-color: #d4ebff;}#sk-container-id-3 div.sk-label input.sk-toggleable__control:checked~label.sk-toggleable__label {background-color: #d4ebff;}#sk-container-id-3 input.sk-hidden--visually {border: 0;clip: rect(1px 1px 1px 1px);clip: rect(1px, 1px, 1px, 1px);height: 1px;margin: -1px;overflow: hidden;padding: 0;position: absolute;width: 1px;}#sk-container-id-3 div.sk-estimator {font-family: monospace;background-color: #f0f8ff;border: 1px dotted black;border-radius: 0.25em;box-sizing: border-box;margin-bottom: 0.5em;}#sk-container-id-3 div.sk-estimator:hover {background-color: #d4ebff;}#sk-container-id-3 div.sk-parallel-item::after {content: \"\";width: 100%;border-bottom: 1px solid gray;flex-grow: 1;}#sk-container-id-3 div.sk-label:hover label.sk-toggleable__label {background-color: #d4ebff;}#sk-container-id-3 div.sk-serial::before {content: \"\";position: absolute;border-left: 1px solid gray;box-sizing: border-box;top: 0;bottom: 0;left: 50%;z-index: 0;}#sk-container-id-3 div.sk-serial {display: flex;flex-direction: column;align-items: center;background-color: white;padding-right: 0.2em;padding-left: 0.2em;position: relative;}#sk-container-id-3 div.sk-item {position: relative;z-index: 1;}#sk-container-id-3 div.sk-parallel {display: flex;align-items: stretch;justify-content: center;background-color: white;position: relative;}#sk-container-id-3 div.sk-item::before, #sk-container-id-3 div.sk-parallel-item::before {content: \"\";position: absolute;border-left: 1px solid gray;box-sizing: border-box;top: 0;bottom: 0;left: 50%;z-index: -1;}#sk-container-id-3 div.sk-parallel-item {display: flex;flex-direction: column;z-index: 1;position: relative;background-color: white;}#sk-container-id-3 div.sk-parallel-item:first-child::after {align-self: flex-end;width: 50%;}#sk-container-id-3 div.sk-parallel-item:last-child::after {align-self: flex-start;width: 50%;}#sk-container-id-3 div.sk-parallel-item:only-child::after {width: 0;}#sk-container-id-3 div.sk-dashed-wrapped {border: 1px dashed gray;margin: 0 0.4em 0.5em 0.4em;box-sizing: border-box;padding-bottom: 0.4em;background-color: white;}#sk-container-id-3 div.sk-label label {font-family: monospace;font-weight: bold;display: inline-block;line-height: 1.2em;}#sk-container-id-3 div.sk-label-container {text-align: center;}#sk-container-id-3 div.sk-container {/* jupyter's `normalize.less` sets `[hidden] { display: none; }` but bootstrap.min.css set `[hidden] { display: none !important; }` so we also need the `!important` here to be able to override the default hidden behavior on the sphinx rendered scikit-learn.org. See: https://github.com/scikit-learn/scikit-learn/issues/21755 */display: inline-block !important;position: relative;}#sk-container-id-3 div.sk-text-repr-fallback {display: none;}</style><div id=\"sk-container-id-3\" class=\"sk-top-container\"><div class=\"sk-text-repr-fallback\"><pre>LinearRegression()</pre><b>In a Jupyter environment, please rerun this cell to show the HTML representation or trust the notebook. <br />On GitHub, the HTML representation is unable to render, please try loading this page with nbviewer.org.</b></div><div class=\"sk-container\" hidden><div class=\"sk-item\"><div class=\"sk-estimator sk-toggleable\"><input class=\"sk-toggleable__control sk-hidden--visually\" id=\"sk-estimator-id-3\" type=\"checkbox\" checked><label for=\"sk-estimator-id-3\" class=\"sk-toggleable__label sk-toggleable__label-arrow\">LinearRegression</label><div class=\"sk-toggleable__content\"><pre>LinearRegression()</pre></div></div></div></div></div>"
      ],
      "text/plain": [
       "LinearRegression()"
      ]
     },
     "execution_count": 42,
     "metadata": {},
     "output_type": "execute_result"
    }
   ],
   "source": [
    "from sklearn.linear_model import LinearRegression\n",
    "regressor_linear = LinearRegression()\n",
    "regressor_linear.fit(X_train, y_train)"
   ]
  },
  {
   "cell_type": "code",
   "execution_count": 44,
   "metadata": {},
   "outputs": [],
   "source": [
    "y_pred_linear = regressor_linear.predict(X_test)"
   ]
  },
  {
   "cell_type": "code",
   "execution_count": 45,
   "metadata": {},
   "outputs": [
    {
     "data": {
      "text/plain": [
       "0.14571568198268428"
      ]
     },
     "execution_count": 45,
     "metadata": {},
     "output_type": "execute_result"
    }
   ],
   "source": [
    "np.sqrt(mean_squared_error(y_test, y_pred_linear))"
   ]
  },
  {
   "cell_type": "code",
   "execution_count": 46,
   "metadata": {},
   "outputs": [
    {
     "data": {
      "image/png": "[encoded data removed]",
      "text/plain": [
       "<Figure size 640x480 with 1 Axes>"
      ]
     },
     "metadata": {},
     "output_type": "display_data"
    }
   ],
   "source": [
    "plt.scatter(y_pred_linear, y_test, color = 'green')\n",
    "plt.xlabel(\"NAV_predicted\")\n",
    "plt.ylabel(\"NAV_true\")\n",
    "plt.plot([-2.5, 2.5], [-2.5, 2.5], '--k')\n",
    "plt.title(\"Linear Regression Performance\")\n",
    "plt.show()"
   ]
  },
  {
   "cell_type": "markdown",
   "metadata": {},
   "source": [
    "## CONCLUSION"
   ]
  },
  {
   "cell_type": "markdown",
   "metadata": {},
   "source": [
    "We finally check the correlation matrix. This will show the influence of the sentiment scores on the NAV values."
   ]
  },
  {
   "cell_type": "code",
   "execution_count": 48,
   "metadata": {},
   "outputs": [
    {
     "name": "stderr",
     "output_type": "stream",
     "text": [
      "C:\\Users\\aprat\\AppData\\Local\\Temp\\ipykernel_14224\\2191645083.py:1: FutureWarning: The default value of numeric_only in DataFrame.corr is deprecated. In a future version, it will default to False. Select only valid columns or specify the value of numeric_only to silence this warning.\n",
      "  dataset.corr()\n"
     ]
    },
    {
     "data": {
      "text/html": [
       "<div>\n",
       "<style scoped>\n",
       "    .dataframe tbody tr th:only-of-type {\n",
       "        vertical-align: middle;\n",
       "    }\n",
       "\n",
       "    .dataframe tbody tr th {\n",
       "        vertical-align: top;\n",
       "    }\n",
       "\n",
       "    .dataframe thead th {\n",
       "        text-align: right;\n",
       "    }\n",
       "</style>\n",
       "<table border=\"1\" class=\"dataframe\">\n",
       "  <thead>\n",
       "    <tr style=\"text-align: right;\">\n",
       "      <th></th>\n",
       "      <th>Positive Scores</th>\n",
       "      <th>Negative Scores</th>\n",
       "      <th>Neutral Scores</th>\n",
       "      <th>Compound Scores</th>\n",
       "      <th>Open</th>\n",
       "      <th>High</th>\n",
       "      <th>Low</th>\n",
       "      <th>Close</th>\n",
       "      <th>Net Asset Value</th>\n",
       "    </tr>\n",
       "  </thead>\n",
       "  <tbody>\n",
       "    <tr>\n",
       "      <th>Positive Scores</th>\n",
       "      <td>1.000000</td>\n",
       "      <td>-0.357313</td>\n",
       "      <td>-0.730285</td>\n",
       "      <td>0.835525</td>\n",
       "      <td>0.117894</td>\n",
       "      <td>0.120071</td>\n",
       "      <td>0.119994</td>\n",
       "      <td>0.123096</td>\n",
       "      <td>0.148345</td>\n",
       "    </tr>\n",
       "    <tr>\n",
       "      <th>Negative Scores</th>\n",
       "      <td>-0.357313</td>\n",
       "      <td>1.000000</td>\n",
       "      <td>-0.377042</td>\n",
       "      <td>-0.757535</td>\n",
       "      <td>-0.008326</td>\n",
       "      <td>-0.012199</td>\n",
       "      <td>-0.022093</td>\n",
       "      <td>-0.023013</td>\n",
       "      <td>-0.034309</td>\n",
       "    </tr>\n",
       "    <tr>\n",
       "      <th>Neutral Scores</th>\n",
       "      <td>-0.730285</td>\n",
       "      <td>-0.377042</td>\n",
       "      <td>1.000000</td>\n",
       "      <td>-0.274534</td>\n",
       "      <td>-0.110540</td>\n",
       "      <td>-0.109868</td>\n",
       "      <td>-0.102574</td>\n",
       "      <td>-0.104978</td>\n",
       "      <td>-0.121850</td>\n",
       "    </tr>\n",
       "    <tr>\n",
       "      <th>Compound Scores</th>\n",
       "      <td>0.835525</td>\n",
       "      <td>-0.757535</td>\n",
       "      <td>-0.274534</td>\n",
       "      <td>1.000000</td>\n",
       "      <td>0.091461</td>\n",
       "      <td>0.093417</td>\n",
       "      <td>0.094618</td>\n",
       "      <td>0.097847</td>\n",
       "      <td>0.124375</td>\n",
       "    </tr>\n",
       "    <tr>\n",
       "      <th>Open</th>\n",
       "      <td>0.117894</td>\n",
       "      <td>-0.008326</td>\n",
       "      <td>-0.110540</td>\n",
       "      <td>0.091461</td>\n",
       "      <td>1.000000</td>\n",
       "      <td>0.999384</td>\n",
       "      <td>0.998205</td>\n",
       "      <td>0.997845</td>\n",
       "      <td>0.987597</td>\n",
       "    </tr>\n",
       "    <tr>\n",
       "      <th>High</th>\n",
       "      <td>0.120071</td>\n",
       "      <td>-0.012199</td>\n",
       "      <td>-0.109868</td>\n",
       "      <td>0.093417</td>\n",
       "      <td>0.999384</td>\n",
       "      <td>1.000000</td>\n",
       "      <td>0.998207</td>\n",
       "      <td>0.998864</td>\n",
       "      <td>0.987831</td>\n",
       "    </tr>\n",
       "    <tr>\n",
       "      <th>Low</th>\n",
       "      <td>0.119994</td>\n",
       "      <td>-0.022093</td>\n",
       "      <td>-0.102574</td>\n",
       "      <td>0.094618</td>\n",
       "      <td>0.998205</td>\n",
       "      <td>0.998207</td>\n",
       "      <td>1.000000</td>\n",
       "      <td>0.999177</td>\n",
       "      <td>0.989694</td>\n",
       "    </tr>\n",
       "    <tr>\n",
       "      <th>Close</th>\n",
       "      <td>0.123096</td>\n",
       "      <td>-0.023013</td>\n",
       "      <td>-0.104978</td>\n",
       "      <td>0.097847</td>\n",
       "      <td>0.997845</td>\n",
       "      <td>0.998864</td>\n",
       "      <td>0.999177</td>\n",
       "      <td>1.000000</td>\n",
       "      <td>0.989631</td>\n",
       "    </tr>\n",
       "    <tr>\n",
       "      <th>Net Asset Value</th>\n",
       "      <td>0.148345</td>\n",
       "      <td>-0.034309</td>\n",
       "      <td>-0.121850</td>\n",
       "      <td>0.124375</td>\n",
       "      <td>0.987597</td>\n",
       "      <td>0.987831</td>\n",
       "      <td>0.989694</td>\n",
       "      <td>0.989631</td>\n",
       "      <td>1.000000</td>\n",
       "    </tr>\n",
       "  </tbody>\n",
       "</table>\n",
       "</div>"
      ],
      "text/plain": [
       "                 Positive Scores  Negative Scores  Neutral Scores  \\\n",
       "Positive Scores         1.000000        -0.357313       -0.730285   \n",
       "Negative Scores        -0.357313         1.000000       -0.377042   \n",
       "Neutral Scores         -0.730285        -0.377042        1.000000   \n",
       "Compound Scores         0.835525        -0.757535       -0.274534   \n",
       "Open                    0.117894        -0.008326       -0.110540   \n",
       "High                    0.120071        -0.012199       -0.109868   \n",
       "Low                     0.119994        -0.022093       -0.102574   \n",
       "Close                   0.123096        -0.023013       -0.104978   \n",
       "Net Asset Value         0.148345        -0.034309       -0.121850   \n",
       "\n",
       "                 Compound Scores      Open      High       Low     Close  \\\n",
       "Positive Scores         0.835525  0.117894  0.120071  0.119994  0.123096   \n",
       "Negative Scores        -0.757535 -0.008326 -0.012199 -0.022093 -0.023013   \n",
       "Neutral Scores         -0.274534 -0.110540 -0.109868 -0.102574 -0.104978   \n",
       "Compound Scores         1.000000  0.091461  0.093417  0.094618  0.097847   \n",
       "Open                    0.091461  1.000000  0.999384  0.998205  0.997845   \n",
       "High                    0.093417  0.999384  1.000000  0.998207  0.998864   \n",
       "Low                     0.094618  0.998205  0.998207  1.000000  0.999177   \n",
       "Close                   0.097847  0.997845  0.998864  0.999177  1.000000   \n",
       "Net Asset Value         0.124375  0.987597  0.987831  0.989694  0.989631   \n",
       "\n",
       "                 Net Asset Value  \n",
       "Positive Scores         0.148345  \n",
       "Negative Scores        -0.034309  \n",
       "Neutral Scores         -0.121850  \n",
       "Compound Scores         0.124375  \n",
       "Open                    0.987597  \n",
       "High                    0.987831  \n",
       "Low                     0.989694  \n",
       "Close                   0.989631  \n",
       "Net Asset Value         1.000000  "
      ]
     },
     "execution_count": 48,
     "metadata": {},
     "output_type": "execute_result"
    }
   ],
   "source": [
    "dataset.corr()"
   ]
  },
  {
   "cell_type": "markdown",
   "metadata": {},
   "source": [
    "Why do sentiment scores have low correlation even though sentiments do drive the market? \n",
    "An answer lies in the manner of collection of the dataset. We collected every single headline from The Economic Times, regardless of content. The project aimed to see the extent of dependence of the market on general news, and so the correlation with the average sentiments over all types of news is less."
   ]
  },
  {
   "cell_type": "markdown",
   "metadata": {},
   "source": [
    "Due to time constraints, I have ended the project here for the present. Further developments would include filtering through the pulled news headlines to focus only on financial news. At that stage, the project would become centred around the financial and stock market domain. At this stage, the sentiment scores pulled from the news can be used in any domain the user wishes.\n",
    "\n",
    "Another development to be implemented after the one mentioned above would be using grid search to optimize hyper-parameters. Since the sentiment scores do not have a particularly significant correlation with the NAV when compared to the Sensex data, I would like to tune hyper-parameters once the correlation is improved. Currently, tuning the hyper-parameters does not result in any significant improvements of the model.\n",
    "\n",
    "Finally, one thing I would like to include in later versions is an automated version of this project that would evaluate scores and predict NAV automatically each day, which can be further linked to a Tableau/PowerBI dashboard to create a user friendly interface."
   ]
  }
 ],
 "metadata": {
  "kernelspec": {
   "display_name": "Python 3",
   "language": "python",
   "name": "python3"
  },
  "language_info": {
   "codemirror_mode": {
    "name": "ipython",
    "version": 3
   },
   "file_extension": ".py",
   "mimetype": "text/x-python",
   "name": "python",
   "nbconvert_exporter": "python",
   "pygments_lexer": "ipython3",
   "version": "3.11.1"
  }
 },
 "nbformat": 4,
 "nbformat_minor": 2
}
